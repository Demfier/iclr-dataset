{
 "cells": [
  {
   "cell_type": "code",
   "execution_count": 1,
   "id": "f1c0f204-75c9-4c06-9e0c-f940737c639d",
   "metadata": {},
   "outputs": [],
   "source": [
    "%load_ext rpy2.ipython"
   ]
  },
  {
   "cell_type": "code",
   "execution_count": 2,
   "id": "1ff1021a-b9bb-446c-a816-a0548942787b",
   "metadata": {},
   "outputs": [
    {
     "name": "stderr",
     "output_type": "stream",
     "text": [
      "R[write to console]: Loading required package: gender\n",
      "\n",
      "R[write to console]: Loading required package: genderdata\n",
      "\n",
      "R[write to console]: Loading required package: tibble\n",
      "\n"
     ]
    },
    {
     "data": {
      "text/html": [
       "\n",
       "        <span>BoolVector with 1 elements.</span>\n",
       "        <table>\n",
       "        <tbody>\n",
       "          <tr>\n",
       "          \n",
       "            <td>\n",
       "                   1\n",
       "            </td>\n",
       "          \n",
       "          </tr>\n",
       "        </tbody>\n",
       "        </table>\n",
       "        "
      ],
      "text/plain": [
       "<rpy2.robjects.vectors.BoolVector object at 0x7f8e1c907700> [RTYPES.LGLSXP]\n",
       "R classes: ('logical',)\n",
       "[       1]"
      ]
     },
     "execution_count": 2,
     "metadata": {},
     "output_type": "execute_result"
    }
   ],
   "source": [
    "%R require(gender)\n",
    "%R require(genderdata)\n",
    "%R require(tibble)"
   ]
  },
  {
   "cell_type": "code",
   "execution_count": 9,
   "id": "7b45c2b7-12f6-4271-88a6-bcb2e71b46d8",
   "metadata": {},
   "outputs": [
    {
     "name": "stdout",
     "output_type": "stream",
     "text": [
      "The memory_profiler extension is already loaded. To reload it, use:\n",
      "  %reload_ext memory_profiler\n"
     ]
    }
   ],
   "source": [
    "%matplotlib notebook\n",
    "\n",
    "import pandas as pd\n",
    "import numpy as np\n",
    "\n",
    "import time\n",
    "import pickle\n",
    "\n",
    "import memory_profiler\n",
    "\n",
    "%load_ext memory_profiler\n",
    "\n",
    "from pathlib import Path\n",
    "\n",
    "%load_ext watermark"
   ]
  },
  {
   "cell_type": "code",
   "execution_count": 10,
   "id": "5b7cbf21-db3f-4e44-b2c2-e1cd00aa301c",
   "metadata": {},
   "outputs": [],
   "source": [
    "import black\n",
    "import jupyter_black\n",
    "\n",
    "jupyter_black.load(line_length=79)"
   ]
  },
  {
   "cell_type": "code",
   "execution_count": 11,
   "id": "52fbae66-0b38-4f38-8b03-fc7d2bcd3f6d",
   "metadata": {},
   "outputs": [],
   "source": [
    "variables_path = Path(\"../results/variables/iclr24v2a\")\n",
    "figures_path = Path(\"../results/figures\")\n",
    "data_path = Path(\"../data\")"
   ]
  },
  {
   "cell_type": "code",
   "execution_count": 12,
   "id": "2a9caba6-1485-43b9-bdb9-b5c6873adab2",
   "metadata": {
    "scrolled": true
   },
   "outputs": [
    {
     "name": "stdout",
     "output_type": "stream",
     "text": [
      "Author: Rita González-Márquez\n",
      "\n",
      "Last updated: 2024-03-27 03:40:37CET\n",
      "\n",
      "Python implementation: CPython\n",
      "Python version       : 3.8.10\n",
      "IPython version      : 8.4.0\n",
      "\n",
      "transformers: 4.30.2\n",
      "openTSNE    : 0.6.2\n",
      "\n",
      "Compiler    : GCC 9.4.0\n",
      "OS          : Linux\n",
      "Release     : 3.10.0-1160.el7.x86_64\n",
      "Machine     : x86_64\n",
      "Processor   : x86_64\n",
      "CPU cores   : 96\n",
      "Architecture: 64bit\n",
      "\n",
      "Hostname: 94343264f94c\n",
      "\n",
      "numpy          : 1.23.1\n",
      "black          : 23.1.0\n",
      "jupyter_black  : 0.3.3\n",
      "memory_profiler: 0.60.0\n",
      "watermark      : 2.3.1\n",
      "pandas         : 1.4.3\n",
      "\n",
      "Watermark: 2.3.1\n",
      "\n"
     ]
    },
    {
     "ename": "NameError",
     "evalue": "name 'distro' is not defined",
     "output_type": "error",
     "traceback": [
      "\u001b[0;31m---------------------------------------------------------------------------\u001b[0m",
      "\u001b[0;31mNameError\u001b[0m                                 Traceback (most recent call last)",
      "Input \u001b[0;32mIn [12]\u001b[0m, in \u001b[0;36m<cell line: 2>\u001b[0;34m()\u001b[0m\n\u001b[1;32m      1\u001b[0m get_ipython()\u001b[38;5;241m.\u001b[39mrun_line_magic(\u001b[38;5;124m'\u001b[39m\u001b[38;5;124mwatermark\u001b[39m\u001b[38;5;124m'\u001b[39m, \u001b[38;5;124m\"\u001b[39m\u001b[38;5;124m-a \u001b[39m\u001b[38;5;124m'\u001b[39m\u001b[38;5;124mRita González-Márquez\u001b[39m\u001b[38;5;124m'\u001b[39m\u001b[38;5;124m -t -d -tz -u -v -iv -w -m -h -p transformers,openTSNE\u001b[39m\u001b[38;5;124m\"\u001b[39m)\n\u001b[0;32m----> 2\u001b[0m \u001b[38;5;28mprint\u001b[39m(\u001b[43mdistro\u001b[49m\u001b[38;5;241m.\u001b[39mname(pretty\u001b[38;5;241m=\u001b[39m\u001b[38;5;28;01mTrue\u001b[39;00m))\n",
      "\u001b[0;31mNameError\u001b[0m: name 'distro' is not defined"
     ]
    }
   ],
   "source": [
    "%watermark -a 'Rita González-Márquez' -t -d -tz -u -v -iv -w -m -h -p transformers,openTSNE\n",
    "print(distro.name(pretty=True))"
   ]
  },
  {
   "cell_type": "markdown",
   "id": "ed880fc2-48b1-4549-a242-1537ac095d62",
   "metadata": {},
   "source": [
    "# Import"
   ]
  },
  {
   "cell_type": "code",
   "execution_count": 13,
   "id": "49b8ddc0-33f9-4dd4-ad7d-5c2391bae539",
   "metadata": {},
   "outputs": [
    {
     "name": "stdout",
     "output_type": "stream",
     "text": [
      "CPU times: user 292 ms, sys: 122 ms, total: 414 ms\n",
      "Wall time: 424 ms\n"
     ]
    }
   ],
   "source": [
    "%%time\n",
    "iclr2024 = pd.read_parquet(\n",
    "    data_path / \"iclr24v2a.parquet\",\n",
    "    engine=\"pyarrow\",\n",
    ")"
   ]
  },
  {
   "cell_type": "code",
   "execution_count": 14,
   "id": "91329009-bc30-4124-91d0-b5f9827a59bc",
   "metadata": {},
   "outputs": [],
   "source": [
    "iclr2024.keywords = iclr2024.keywords.transform(lambda x: list(x))\n",
    "iclr2024.scores = iclr2024.scores.transform(lambda x: list(x))"
   ]
  },
  {
   "cell_type": "code",
   "execution_count": 15,
   "id": "a18340f5-8478-4685-9bac-794f4598f0b3",
   "metadata": {
    "scrolled": true
   },
   "outputs": [
    {
     "data": {
      "text/html": [
       "<div>\n",
       "<style scoped>\n",
       "    .dataframe tbody tr th:only-of-type {\n",
       "        vertical-align: middle;\n",
       "    }\n",
       "\n",
       "    .dataframe tbody tr th {\n",
       "        vertical-align: top;\n",
       "    }\n",
       "\n",
       "    .dataframe thead th {\n",
       "        text-align: right;\n",
       "    }\n",
       "</style>\n",
       "<table border=\"1\" class=\"dataframe\">\n",
       "  <thead>\n",
       "    <tr style=\"text-align: right;\">\n",
       "      <th></th>\n",
       "      <th>year</th>\n",
       "      <th>id</th>\n",
       "      <th>title</th>\n",
       "      <th>abstract</th>\n",
       "      <th>authors</th>\n",
       "      <th>decision</th>\n",
       "      <th>scores</th>\n",
       "      <th>keywords</th>\n",
       "      <th>labels</th>\n",
       "    </tr>\n",
       "  </thead>\n",
       "  <tbody>\n",
       "    <tr>\n",
       "      <th>0</th>\n",
       "      <td>2017</td>\n",
       "      <td>B1-Hhnslg</td>\n",
       "      <td>Prototypical Networks for Few-shot Learning</td>\n",
       "      <td>A recent approach to few-shot classification c...</td>\n",
       "      <td>Jake Snell, Kevin Swersky, Richard Zemel</td>\n",
       "      <td>Reject</td>\n",
       "      <td>[6, 4, 5]</td>\n",
       "      <td>[deep learning, transfer learning]</td>\n",
       "      <td>transfer learning</td>\n",
       "    </tr>\n",
       "    <tr>\n",
       "      <th>1</th>\n",
       "      <td>2017</td>\n",
       "      <td>B1-q5Pqxl</td>\n",
       "      <td>Machine Comprehension Using Match-LSTM and Ans...</td>\n",
       "      <td>Machine comprehension of text is an important ...</td>\n",
       "      <td>Shuohang Wang, Jing Jiang</td>\n",
       "      <td>Accept (Poster)</td>\n",
       "      <td>[6, 6, 7]</td>\n",
       "      <td>[natural language processing, deep learning]</td>\n",
       "      <td>language models</td>\n",
       "    </tr>\n",
       "    <tr>\n",
       "      <th>2</th>\n",
       "      <td>2017</td>\n",
       "      <td>B16Jem9xe</td>\n",
       "      <td>Learning in Implicit Generative Models</td>\n",
       "      <td>Generative adversarial networks (GANs) provide...</td>\n",
       "      <td>Shakir Mohamed, Balaji Lakshminarayanan</td>\n",
       "      <td>Invite to Workshop Track</td>\n",
       "      <td>[8, 7, 6]</td>\n",
       "      <td>[unsupervised learning]</td>\n",
       "      <td>unlabeled</td>\n",
       "    </tr>\n",
       "    <tr>\n",
       "      <th>3</th>\n",
       "      <td>2017</td>\n",
       "      <td>B16dGcqlx</td>\n",
       "      <td>Third Person Imitation Learning</td>\n",
       "      <td>Reinforcement learning (RL) makes it possible ...</td>\n",
       "      <td>Bradly C Stadie, Pieter Abbeel, Ilya Sutskever</td>\n",
       "      <td>Accept (Poster)</td>\n",
       "      <td>[6, 5, 6]</td>\n",
       "      <td>[]</td>\n",
       "      <td>unlabeled</td>\n",
       "    </tr>\n",
       "    <tr>\n",
       "      <th>4</th>\n",
       "      <td>2017</td>\n",
       "      <td>B184E5qee</td>\n",
       "      <td>Improving Neural Language Models with a Contin...</td>\n",
       "      <td>We propose an extension to neural network lang...</td>\n",
       "      <td>Edouard Grave, Armand Joulin, Nicolas Usunier</td>\n",
       "      <td>Accept (Poster)</td>\n",
       "      <td>[7, 9, 5]</td>\n",
       "      <td>[natural language processing]</td>\n",
       "      <td>language models</td>\n",
       "    </tr>\n",
       "    <tr>\n",
       "      <th>...</th>\n",
       "      <td>...</td>\n",
       "      <td>...</td>\n",
       "      <td>...</td>\n",
       "      <td>...</td>\n",
       "      <td>...</td>\n",
       "      <td>...</td>\n",
       "      <td>...</td>\n",
       "      <td>...</td>\n",
       "      <td>...</td>\n",
       "    </tr>\n",
       "    <tr>\n",
       "      <th>24440</th>\n",
       "      <td>2024</td>\n",
       "      <td>zxPDdw8koz</td>\n",
       "      <td>CLIP meets Model Zoo Experts: Pseudo-Supervisi...</td>\n",
       "      <td>Contrastive language image pretraining (CLIP) ...</td>\n",
       "      <td>Mohammadreza Salehi, Mehrdad Farajtabar, Maxwe...</td>\n",
       "      <td>Withdrawn</td>\n",
       "      <td>[8, 3, 3, 3]</td>\n",
       "      <td>[contrastive learning, clip, distillation, den...</td>\n",
       "      <td>vision-language models</td>\n",
       "    </tr>\n",
       "    <tr>\n",
       "      <th>24441</th>\n",
       "      <td>2024</td>\n",
       "      <td>zyBJodMrn5</td>\n",
       "      <td>On the generalization capacity of neural netwo...</td>\n",
       "      <td>The advent of the Transformer has led to the d...</td>\n",
       "      <td>Takuya Ito, Soham Dan, Mattia Rigotti, James K...</td>\n",
       "      <td>Accept (poster)</td>\n",
       "      <td>[8, 3, 6]</td>\n",
       "      <td>[compositional generalization, compositionalit...</td>\n",
       "      <td>out-of-distribution</td>\n",
       "    </tr>\n",
       "    <tr>\n",
       "      <th>24442</th>\n",
       "      <td>2024</td>\n",
       "      <td>zz61V8bIab</td>\n",
       "      <td>Stochastic Adversarial Networks for Multi-Doma...</td>\n",
       "      <td>Adversarial training has played a pivotal role...</td>\n",
       "      <td>Xu Wang, Yuan Wu</td>\n",
       "      <td>Withdrawn</td>\n",
       "      <td>[5, 1, 5]</td>\n",
       "      <td>[multi-domain text classification, adversarial...</td>\n",
       "      <td>adversarial</td>\n",
       "    </tr>\n",
       "    <tr>\n",
       "      <th>24443</th>\n",
       "      <td>2024</td>\n",
       "      <td>zzqn5G9fjn</td>\n",
       "      <td>Breaking Physical and Linguistic Borders: Mult...</td>\n",
       "      <td>Pretrained large language models (LLMs) have e...</td>\n",
       "      <td>Wanru Zhao, Royson Lee, Yihong Chen, Xinchi Qi...</td>\n",
       "      <td>Accept (poster)</td>\n",
       "      <td>[5, 3, 1, 8]</td>\n",
       "      <td>[multilingual federated learning, natural lang...</td>\n",
       "      <td>language models</td>\n",
       "    </tr>\n",
       "    <tr>\n",
       "      <th>24444</th>\n",
       "      <td>2024</td>\n",
       "      <td>zzv4Bf50RW</td>\n",
       "      <td>Learning SO(3)-Invariant Correspondence via Po...</td>\n",
       "      <td>Establishing accurate dense 3D correspondences...</td>\n",
       "      <td>Chunghyun Park, Seungwook Kim, Jaesik Park, Mi...</td>\n",
       "      <td>Withdrawn</td>\n",
       "      <td>[5, 5, 3, 5, 6]</td>\n",
       "      <td>[point cloud understanding, 3d dense correspon...</td>\n",
       "      <td>unlabeled</td>\n",
       "    </tr>\n",
       "  </tbody>\n",
       "</table>\n",
       "<p>24445 rows × 9 columns</p>\n",
       "</div>"
      ],
      "text/plain": [
       "       year          id                                              title  \\\n",
       "0      2017   B1-Hhnslg        Prototypical Networks for Few-shot Learning   \n",
       "1      2017   B1-q5Pqxl  Machine Comprehension Using Match-LSTM and Ans...   \n",
       "2      2017   B16Jem9xe             Learning in Implicit Generative Models   \n",
       "3      2017   B16dGcqlx                    Third Person Imitation Learning   \n",
       "4      2017   B184E5qee  Improving Neural Language Models with a Contin...   \n",
       "...     ...         ...                                                ...   \n",
       "24440  2024  zxPDdw8koz  CLIP meets Model Zoo Experts: Pseudo-Supervisi...   \n",
       "24441  2024  zyBJodMrn5  On the generalization capacity of neural netwo...   \n",
       "24442  2024  zz61V8bIab  Stochastic Adversarial Networks for Multi-Doma...   \n",
       "24443  2024  zzqn5G9fjn  Breaking Physical and Linguistic Borders: Mult...   \n",
       "24444  2024  zzv4Bf50RW  Learning SO(3)-Invariant Correspondence via Po...   \n",
       "\n",
       "                                                abstract  \\\n",
       "0      A recent approach to few-shot classification c...   \n",
       "1      Machine comprehension of text is an important ...   \n",
       "2      Generative adversarial networks (GANs) provide...   \n",
       "3      Reinforcement learning (RL) makes it possible ...   \n",
       "4      We propose an extension to neural network lang...   \n",
       "...                                                  ...   \n",
       "24440  Contrastive language image pretraining (CLIP) ...   \n",
       "24441  The advent of the Transformer has led to the d...   \n",
       "24442  Adversarial training has played a pivotal role...   \n",
       "24443  Pretrained large language models (LLMs) have e...   \n",
       "24444  Establishing accurate dense 3D correspondences...   \n",
       "\n",
       "                                                 authors  \\\n",
       "0               Jake Snell, Kevin Swersky, Richard Zemel   \n",
       "1                              Shuohang Wang, Jing Jiang   \n",
       "2                Shakir Mohamed, Balaji Lakshminarayanan   \n",
       "3         Bradly C Stadie, Pieter Abbeel, Ilya Sutskever   \n",
       "4          Edouard Grave, Armand Joulin, Nicolas Usunier   \n",
       "...                                                  ...   \n",
       "24440  Mohammadreza Salehi, Mehrdad Farajtabar, Maxwe...   \n",
       "24441  Takuya Ito, Soham Dan, Mattia Rigotti, James K...   \n",
       "24442                                   Xu Wang, Yuan Wu   \n",
       "24443  Wanru Zhao, Royson Lee, Yihong Chen, Xinchi Qi...   \n",
       "24444  Chunghyun Park, Seungwook Kim, Jaesik Park, Mi...   \n",
       "\n",
       "                       decision           scores  \\\n",
       "0                        Reject        [6, 4, 5]   \n",
       "1               Accept (Poster)        [6, 6, 7]   \n",
       "2      Invite to Workshop Track        [8, 7, 6]   \n",
       "3               Accept (Poster)        [6, 5, 6]   \n",
       "4               Accept (Poster)        [7, 9, 5]   \n",
       "...                         ...              ...   \n",
       "24440                 Withdrawn     [8, 3, 3, 3]   \n",
       "24441           Accept (poster)        [8, 3, 6]   \n",
       "24442                 Withdrawn        [5, 1, 5]   \n",
       "24443           Accept (poster)     [5, 3, 1, 8]   \n",
       "24444                 Withdrawn  [5, 5, 3, 5, 6]   \n",
       "\n",
       "                                                keywords  \\\n",
       "0                     [deep learning, transfer learning]   \n",
       "1           [natural language processing, deep learning]   \n",
       "2                                [unsupervised learning]   \n",
       "3                                                     []   \n",
       "4                          [natural language processing]   \n",
       "...                                                  ...   \n",
       "24440  [contrastive learning, clip, distillation, den...   \n",
       "24441  [compositional generalization, compositionalit...   \n",
       "24442  [multi-domain text classification, adversarial...   \n",
       "24443  [multilingual federated learning, natural lang...   \n",
       "24444  [point cloud understanding, 3d dense correspon...   \n",
       "\n",
       "                       labels  \n",
       "0           transfer learning  \n",
       "1             language models  \n",
       "2                   unlabeled  \n",
       "3                   unlabeled  \n",
       "4             language models  \n",
       "...                       ...  \n",
       "24440  vision-language models  \n",
       "24441     out-of-distribution  \n",
       "24442             adversarial  \n",
       "24443         language models  \n",
       "24444               unlabeled  \n",
       "\n",
       "[24445 rows x 9 columns]"
      ]
     },
     "execution_count": 15,
     "metadata": {},
     "output_type": "execute_result"
    }
   ],
   "source": [
    "iclr2024"
   ]
  },
  {
   "cell_type": "markdown",
   "id": "66c17fe0-9783-410a-8f44-5be7b5b31b3c",
   "metadata": {},
   "source": [
    "## Split names"
   ]
  },
  {
   "cell_type": "code",
   "execution_count": 16,
   "id": "c22462cc-18d1-456e-9305-a9cdbf0d40c3",
   "metadata": {},
   "outputs": [
    {
     "data": {
      "text/plain": [
       "['Jake Snell, Kevin Swersky, Richard Zemel',\n",
       " 'Shuohang Wang, Jing Jiang',\n",
       " 'Shakir Mohamed, Balaji Lakshminarayanan',\n",
       " 'Bradly C Stadie, Pieter Abbeel, Ilya Sutskever',\n",
       " 'Edouard Grave, Armand Joulin, Nicolas Usunier',\n",
       " 'Levent Sagun, Leon Bottou, Yann LeCun',\n",
       " 'Jianwen Xie, Yang Lu, Ruiqi Gao, Song-Chun Zhu, Ying Nian Wu',\n",
       " 'Vincent Dumoulin, Ishmael Belghazi, Ben Poole, Alex Lamb, Martin Arjovsky, Olivier Mastropietro, Aaron Courville',\n",
       " 'Joji Toyama, Masanori Misono, Masahiro Suzuki, Kotaro Nakayama, Yutaka Matsuo',\n",
       " 'Sahil Sharma, Aravind S. Lakshminarayanan, Balaraman Ravindran']"
      ]
     },
     "execution_count": 16,
     "metadata": {},
     "output_type": "execute_result"
    }
   ],
   "source": [
    "authors = iclr2024.authors.to_list()\n",
    "authors[:10]"
   ]
  },
  {
   "cell_type": "code",
   "execution_count": 17,
   "id": "b3e2b5de-0f25-428c-92f4-a79a2ed2de7a",
   "metadata": {},
   "outputs": [
    {
     "name": "stdout",
     "output_type": "stream",
     "text": [
      "CPU times: user 15.1 ms, sys: 3.26 ms, total: 18.4 ms\n",
      "Wall time: 17 ms\n"
     ]
    }
   ],
   "source": [
    "%%time\n",
    "first_author_first_name = [\n",
    "    elem.split(\",\")[0].strip().split(\" \")[0] for elem in authors\n",
    "]"
   ]
  },
  {
   "cell_type": "code",
   "execution_count": 18,
   "id": "0e2fba5b-4286-4e72-898f-4665dda1aa74",
   "metadata": {},
   "outputs": [
    {
     "name": "stdout",
     "output_type": "stream",
     "text": [
      "CPU times: user 17.2 ms, sys: 337 µs, total: 17.5 ms\n",
      "Wall time: 17 ms\n"
     ]
    }
   ],
   "source": [
    "%%time\n",
    "last_author_first_name = [\n",
    "    elem.split(\",\")[-1].strip().split(\" \")[0] for elem in authors\n",
    "]"
   ]
  },
  {
   "cell_type": "markdown",
   "id": "2135c3f9-afe0-42f9-8bb7-69e3fb987f06",
   "metadata": {},
   "source": [
    "### Exploration"
   ]
  },
  {
   "cell_type": "code",
   "execution_count": 19,
   "id": "f5d5c031-6b5e-47dc-8003-50040d134993",
   "metadata": {},
   "outputs": [
    {
     "name": "stdout",
     "output_type": "stream",
     "text": [
      "0\n",
      "0\n"
     ]
    }
   ],
   "source": [
    "print(np.sum(np.array(first_author_first_name) == \"\"))\n",
    "print(np.sum(np.array(last_author_first_name) == \"\"))"
   ]
  },
  {
   "cell_type": "markdown",
   "id": "34f39c88-f57e-44a2-8958-6d6a3ffe5e88",
   "metadata": {},
   "source": [
    "# Gender prediction"
   ]
  },
  {
   "cell_type": "markdown",
   "id": "c0656934-0530-4b2c-8e68-112022726a8c",
   "metadata": {},
   "source": [
    "##  First author"
   ]
  },
  {
   "cell_type": "code",
   "execution_count": 20,
   "id": "e8420064-b5b7-483d-9c4f-e843e3f34894",
   "metadata": {},
   "outputs": [
    {
     "data": {
      "text/plain": [
       "0                Jake\n",
       "1            Shuohang\n",
       "2              Shakir\n",
       "3              Bradly\n",
       "4             Edouard\n",
       "             ...     \n",
       "24440    Mohammadreza\n",
       "24441          Takuya\n",
       "24442              Xu\n",
       "24443           Wanru\n",
       "24444       Chunghyun\n",
       "Name: Names, Length: 24445, dtype: object"
      ]
     },
     "execution_count": 20,
     "metadata": {},
     "output_type": "execute_result"
    }
   ],
   "source": [
    "dict_names = {\"Names\": first_author_first_name}\n",
    "df = pd.DataFrame(dict_names)\n",
    "df_names_first_author = df.Names\n",
    "df_names_first_author"
   ]
  },
  {
   "cell_type": "code",
   "execution_count": 21,
   "id": "77075be9-4256-455f-a08e-a640288f7157",
   "metadata": {},
   "outputs": [
    {
     "name": "stdout",
     "output_type": "stream",
     "text": [
      "CPU times: user 1.22 s, sys: 81.6 ms, total: 1.3 s\n",
      "Wall time: 1.28 s\n"
     ]
    },
    {
     "data": {
      "text/html": [
       "<div>\n",
       "<style scoped>\n",
       "    .dataframe tbody tr th:only-of-type {\n",
       "        vertical-align: middle;\n",
       "    }\n",
       "\n",
       "    .dataframe tbody tr th {\n",
       "        vertical-align: top;\n",
       "    }\n",
       "\n",
       "    .dataframe thead th {\n",
       "        text-align: right;\n",
       "    }\n",
       "</style>\n",
       "<table border=\"1\" class=\"dataframe\">\n",
       "  <thead>\n",
       "    <tr style=\"text-align: right;\">\n",
       "      <th></th>\n",
       "      <th>name</th>\n",
       "      <th>proportion_male</th>\n",
       "      <th>proportion_female</th>\n",
       "      <th>gender</th>\n",
       "      <th>year_min</th>\n",
       "      <th>year_max</th>\n",
       "    </tr>\n",
       "  </thead>\n",
       "  <tbody>\n",
       "    <tr>\n",
       "      <th>1</th>\n",
       "      <td>Aadarsh</td>\n",
       "      <td>1.0000</td>\n",
       "      <td>0.0000</td>\n",
       "      <td>male</td>\n",
       "      <td>2012.0</td>\n",
       "      <td>2012.0</td>\n",
       "    </tr>\n",
       "    <tr>\n",
       "      <th>2</th>\n",
       "      <td>Aakash</td>\n",
       "      <td>1.0000</td>\n",
       "      <td>0.0000</td>\n",
       "      <td>male</td>\n",
       "      <td>2012.0</td>\n",
       "      <td>2012.0</td>\n",
       "    </tr>\n",
       "    <tr>\n",
       "      <th>3</th>\n",
       "      <td>Aaron</td>\n",
       "      <td>0.9970</td>\n",
       "      <td>0.0030</td>\n",
       "      <td>male</td>\n",
       "      <td>2012.0</td>\n",
       "      <td>2012.0</td>\n",
       "    </tr>\n",
       "    <tr>\n",
       "      <th>4</th>\n",
       "      <td>Aaron</td>\n",
       "      <td>0.9970</td>\n",
       "      <td>0.0030</td>\n",
       "      <td>male</td>\n",
       "      <td>2012.0</td>\n",
       "      <td>2012.0</td>\n",
       "    </tr>\n",
       "    <tr>\n",
       "      <th>5</th>\n",
       "      <td>Aaron</td>\n",
       "      <td>0.9970</td>\n",
       "      <td>0.0030</td>\n",
       "      <td>male</td>\n",
       "      <td>2012.0</td>\n",
       "      <td>2012.0</td>\n",
       "    </tr>\n",
       "    <tr>\n",
       "      <th>...</th>\n",
       "      <td>...</td>\n",
       "      <td>...</td>\n",
       "      <td>...</td>\n",
       "      <td>...</td>\n",
       "      <td>...</td>\n",
       "      <td>...</td>\n",
       "    </tr>\n",
       "    <tr>\n",
       "      <th>10212</th>\n",
       "      <td>Zoe</td>\n",
       "      <td>0.0023</td>\n",
       "      <td>0.9977</td>\n",
       "      <td>female</td>\n",
       "      <td>2012.0</td>\n",
       "      <td>2012.0</td>\n",
       "    </tr>\n",
       "    <tr>\n",
       "      <th>10213</th>\n",
       "      <td>Zoe</td>\n",
       "      <td>0.0023</td>\n",
       "      <td>0.9977</td>\n",
       "      <td>female</td>\n",
       "      <td>2012.0</td>\n",
       "      <td>2012.0</td>\n",
       "    </tr>\n",
       "    <tr>\n",
       "      <th>10214</th>\n",
       "      <td>Zohar</td>\n",
       "      <td>0.5149</td>\n",
       "      <td>0.4851</td>\n",
       "      <td>male</td>\n",
       "      <td>2012.0</td>\n",
       "      <td>2012.0</td>\n",
       "    </tr>\n",
       "    <tr>\n",
       "      <th>10215</th>\n",
       "      <td>Zohar</td>\n",
       "      <td>0.5149</td>\n",
       "      <td>0.4851</td>\n",
       "      <td>male</td>\n",
       "      <td>2012.0</td>\n",
       "      <td>2012.0</td>\n",
       "    </tr>\n",
       "    <tr>\n",
       "      <th>10216</th>\n",
       "      <td>Zohar</td>\n",
       "      <td>0.5149</td>\n",
       "      <td>0.4851</td>\n",
       "      <td>male</td>\n",
       "      <td>2012.0</td>\n",
       "      <td>2012.0</td>\n",
       "    </tr>\n",
       "  </tbody>\n",
       "</table>\n",
       "<p>10216 rows × 6 columns</p>\n",
       "</div>"
      ],
      "text/plain": [
       "          name  proportion_male  proportion_female  gender  year_min  year_max\n",
       "1      Aadarsh           1.0000             0.0000    male    2012.0    2012.0\n",
       "2       Aakash           1.0000             0.0000    male    2012.0    2012.0\n",
       "3        Aaron           0.9970             0.0030    male    2012.0    2012.0\n",
       "4        Aaron           0.9970             0.0030    male    2012.0    2012.0\n",
       "5        Aaron           0.9970             0.0030    male    2012.0    2012.0\n",
       "...        ...              ...                ...     ...       ...       ...\n",
       "10212      Zoe           0.0023             0.9977  female    2012.0    2012.0\n",
       "10213      Zoe           0.0023             0.9977  female    2012.0    2012.0\n",
       "10214    Zohar           0.5149             0.4851    male    2012.0    2012.0\n",
       "10215    Zohar           0.5149             0.4851    male    2012.0    2012.0\n",
       "10216    Zohar           0.5149             0.4851    male    2012.0    2012.0\n",
       "\n",
       "[10216 rows x 6 columns]"
      ]
     },
     "execution_count": 21,
     "metadata": {},
     "output_type": "execute_result"
    }
   ],
   "source": [
    "%%time\n",
    "%R library(gender)\n",
    "%R -i df_names_first_author -o result result = gender(df_names_first_author, years = 2012, method = \"ssa\")"
   ]
  },
  {
   "cell_type": "code",
   "execution_count": 22,
   "id": "aba3c71a-b096-49a4-a700-75b43ad1043c",
   "metadata": {},
   "outputs": [],
   "source": [
    "gender_map = dict(zip(result.name, result.gender))"
   ]
  },
  {
   "cell_type": "code",
   "execution_count": 23,
   "id": "1d263c9d-d213-4a10-ae03-759830752364",
   "metadata": {
    "tags": []
   },
   "outputs": [],
   "source": [
    "first_author_gender = np.vectorize(gender_map.get)(first_author_first_name)"
   ]
  },
  {
   "cell_type": "markdown",
   "id": "44e8544c-7f99-4159-be24-e76b415c7525",
   "metadata": {},
   "source": [
    "##  Last author"
   ]
  },
  {
   "cell_type": "code",
   "execution_count": 24,
   "id": "c277a2bc-63a9-4a80-b8d6-f57be95dcca2",
   "metadata": {},
   "outputs": [
    {
     "data": {
      "text/plain": [
       "0         Richard\n",
       "1            Jing\n",
       "2          Balaji\n",
       "3            Ilya\n",
       "4         Nicolas\n",
       "           ...   \n",
       "24440      Sachin\n",
       "24441      Murray\n",
       "24442        Yuan\n",
       "24443    Nicholas\n",
       "24444       Minsu\n",
       "Name: Names, Length: 24445, dtype: object"
      ]
     },
     "execution_count": 24,
     "metadata": {},
     "output_type": "execute_result"
    }
   ],
   "source": [
    "dict_names = {\"Names\": last_author_first_name}\n",
    "df = pd.DataFrame(dict_names)\n",
    "df_names_last_author = df.Names\n",
    "df_names_last_author"
   ]
  },
  {
   "cell_type": "code",
   "execution_count": 25,
   "id": "173ea55a-68c2-4402-9fd4-d9d90f6ee7f5",
   "metadata": {},
   "outputs": [
    {
     "name": "stdout",
     "output_type": "stream",
     "text": [
      "CPU times: user 580 ms, sys: 14.5 ms, total: 594 ms\n",
      "Wall time: 585 ms\n"
     ]
    },
    {
     "data": {
      "text/html": [
       "<div>\n",
       "<style scoped>\n",
       "    .dataframe tbody tr th:only-of-type {\n",
       "        vertical-align: middle;\n",
       "    }\n",
       "\n",
       "    .dataframe tbody tr th {\n",
       "        vertical-align: top;\n",
       "    }\n",
       "\n",
       "    .dataframe thead th {\n",
       "        text-align: right;\n",
       "    }\n",
       "</style>\n",
       "<table border=\"1\" class=\"dataframe\">\n",
       "  <thead>\n",
       "    <tr style=\"text-align: right;\">\n",
       "      <th></th>\n",
       "      <th>name</th>\n",
       "      <th>proportion_male</th>\n",
       "      <th>proportion_female</th>\n",
       "      <th>gender</th>\n",
       "      <th>year_min</th>\n",
       "      <th>year_max</th>\n",
       "    </tr>\n",
       "  </thead>\n",
       "  <tbody>\n",
       "    <tr>\n",
       "      <th>1</th>\n",
       "      <td>Aaditya</td>\n",
       "      <td>1.0000</td>\n",
       "      <td>0.0000</td>\n",
       "      <td>male</td>\n",
       "      <td>2012.0</td>\n",
       "      <td>2012.0</td>\n",
       "    </tr>\n",
       "    <tr>\n",
       "      <th>2</th>\n",
       "      <td>Aaditya</td>\n",
       "      <td>1.0000</td>\n",
       "      <td>0.0000</td>\n",
       "      <td>male</td>\n",
       "      <td>2012.0</td>\n",
       "      <td>2012.0</td>\n",
       "    </tr>\n",
       "    <tr>\n",
       "      <th>3</th>\n",
       "      <td>Aaro</td>\n",
       "      <td>1.0000</td>\n",
       "      <td>0.0000</td>\n",
       "      <td>male</td>\n",
       "      <td>2012.0</td>\n",
       "      <td>2012.0</td>\n",
       "    </tr>\n",
       "    <tr>\n",
       "      <th>4</th>\n",
       "      <td>Aaron</td>\n",
       "      <td>0.9970</td>\n",
       "      <td>0.0030</td>\n",
       "      <td>male</td>\n",
       "      <td>2012.0</td>\n",
       "      <td>2012.0</td>\n",
       "    </tr>\n",
       "    <tr>\n",
       "      <th>5</th>\n",
       "      <td>Aaron</td>\n",
       "      <td>0.9970</td>\n",
       "      <td>0.0030</td>\n",
       "      <td>male</td>\n",
       "      <td>2012.0</td>\n",
       "      <td>2012.0</td>\n",
       "    </tr>\n",
       "    <tr>\n",
       "      <th>...</th>\n",
       "      <td>...</td>\n",
       "      <td>...</td>\n",
       "      <td>...</td>\n",
       "      <td>...</td>\n",
       "      <td>...</td>\n",
       "      <td>...</td>\n",
       "    </tr>\n",
       "    <tr>\n",
       "      <th>12203</th>\n",
       "      <td>Zohar</td>\n",
       "      <td>0.5149</td>\n",
       "      <td>0.4851</td>\n",
       "      <td>male</td>\n",
       "      <td>2012.0</td>\n",
       "      <td>2012.0</td>\n",
       "    </tr>\n",
       "    <tr>\n",
       "      <th>12204</th>\n",
       "      <td>Zohar</td>\n",
       "      <td>0.5149</td>\n",
       "      <td>0.4851</td>\n",
       "      <td>male</td>\n",
       "      <td>2012.0</td>\n",
       "      <td>2012.0</td>\n",
       "    </tr>\n",
       "    <tr>\n",
       "      <th>12205</th>\n",
       "      <td>Zoran</td>\n",
       "      <td>1.0000</td>\n",
       "      <td>0.0000</td>\n",
       "      <td>male</td>\n",
       "      <td>2012.0</td>\n",
       "      <td>2012.0</td>\n",
       "    </tr>\n",
       "    <tr>\n",
       "      <th>12206</th>\n",
       "      <td>Zoran</td>\n",
       "      <td>1.0000</td>\n",
       "      <td>0.0000</td>\n",
       "      <td>male</td>\n",
       "      <td>2012.0</td>\n",
       "      <td>2012.0</td>\n",
       "    </tr>\n",
       "    <tr>\n",
       "      <th>12207</th>\n",
       "      <td>Zvi</td>\n",
       "      <td>1.0000</td>\n",
       "      <td>0.0000</td>\n",
       "      <td>male</td>\n",
       "      <td>2012.0</td>\n",
       "      <td>2012.0</td>\n",
       "    </tr>\n",
       "  </tbody>\n",
       "</table>\n",
       "<p>12207 rows × 6 columns</p>\n",
       "</div>"
      ],
      "text/plain": [
       "          name  proportion_male  proportion_female gender  year_min  year_max\n",
       "1      Aaditya           1.0000             0.0000   male    2012.0    2012.0\n",
       "2      Aaditya           1.0000             0.0000   male    2012.0    2012.0\n",
       "3         Aaro           1.0000             0.0000   male    2012.0    2012.0\n",
       "4        Aaron           0.9970             0.0030   male    2012.0    2012.0\n",
       "5        Aaron           0.9970             0.0030   male    2012.0    2012.0\n",
       "...        ...              ...                ...    ...       ...       ...\n",
       "12203    Zohar           0.5149             0.4851   male    2012.0    2012.0\n",
       "12204    Zohar           0.5149             0.4851   male    2012.0    2012.0\n",
       "12205    Zoran           1.0000             0.0000   male    2012.0    2012.0\n",
       "12206    Zoran           1.0000             0.0000   male    2012.0    2012.0\n",
       "12207      Zvi           1.0000             0.0000   male    2012.0    2012.0\n",
       "\n",
       "[12207 rows x 6 columns]"
      ]
     },
     "execution_count": 25,
     "metadata": {},
     "output_type": "execute_result"
    }
   ],
   "source": [
    "%%time\n",
    "%R library(gender)\n",
    "%R -i df_names_last_author -o result result = gender(df_names_last_author, years = 2012, method = \"ssa\")"
   ]
  },
  {
   "cell_type": "code",
   "execution_count": 26,
   "id": "f715882a-b0c6-4222-9b9b-d1b62413e4a3",
   "metadata": {
    "tags": []
   },
   "outputs": [],
   "source": [
    "gender_map = dict(zip(result.name, result.gender))"
   ]
  },
  {
   "cell_type": "code",
   "execution_count": 27,
   "id": "5671c72f-d6a7-4b96-b043-d3a55558145f",
   "metadata": {
    "tags": []
   },
   "outputs": [],
   "source": [
    "last_author_gender = np.vectorize(gender_map.get)(last_author_first_name)"
   ]
  },
  {
   "cell_type": "code",
   "execution_count": 28,
   "id": "c5a91de6-8c9d-45d4-a56d-b0de4a6e6c09",
   "metadata": {},
   "outputs": [
    {
     "data": {
      "text/plain": [
       "array(['male', 'female', 'None', ..., 'female', 'male', 'None'],\n",
       "      dtype='<U6')"
      ]
     },
     "execution_count": 28,
     "metadata": {},
     "output_type": "execute_result"
    }
   ],
   "source": [
    "last_author_gender"
   ]
  },
  {
   "cell_type": "markdown",
   "id": "4bd2ea5b-e6ac-4382-a508-3dfbe2a1468c",
   "metadata": {},
   "source": [
    "## Exploration"
   ]
  },
  {
   "cell_type": "code",
   "execution_count": 29,
   "id": "5808662b-430f-4c2b-a2b6-cbd7e33b7cae",
   "metadata": {},
   "outputs": [
    {
     "name": "stdout",
     "output_type": "stream",
     "text": [
      "8449\n",
      "1767\n",
      "14229\n"
     ]
    }
   ],
   "source": [
    "print(np.sum(first_author_gender == \"male\"))\n",
    "print(np.sum(first_author_gender == \"female\"))\n",
    "print(np.sum(first_author_gender == \"None\"))"
   ]
  },
  {
   "cell_type": "code",
   "execution_count": 30,
   "id": "d3739443-84dc-44fc-86a5-27031aad5ceb",
   "metadata": {},
   "outputs": [
    {
     "name": "stdout",
     "output_type": "stream",
     "text": [
      "24445\n"
     ]
    },
    {
     "data": {
      "text/plain": [
       "(24445,)"
      ]
     },
     "execution_count": 30,
     "metadata": {},
     "output_type": "execute_result"
    }
   ],
   "source": [
    "print(\n",
    "    np.sum(first_author_gender == \"male\")\n",
    "    + np.sum(first_author_gender == \"female\")\n",
    "    + np.sum(first_author_gender == \"None\")\n",
    ")\n",
    "first_author_gender.shape"
   ]
  },
  {
   "cell_type": "code",
   "execution_count": 31,
   "id": "74d8e1e5-ce6c-4f4b-8c46-55bd4fab7dbb",
   "metadata": {},
   "outputs": [
    {
     "name": "stdout",
     "output_type": "stream",
     "text": [
      "10419\n",
      "1788\n",
      "12238\n"
     ]
    }
   ],
   "source": [
    "print(np.sum(last_author_gender == \"male\"))\n",
    "print(np.sum(last_author_gender == \"female\"))\n",
    "print(np.sum(last_author_gender == \"None\"))"
   ]
  },
  {
   "cell_type": "code",
   "execution_count": 32,
   "id": "3eb1f1b3-a440-4ee6-a850-749623f79e36",
   "metadata": {},
   "outputs": [
    {
     "name": "stdout",
     "output_type": "stream",
     "text": [
      "24445\n"
     ]
    }
   ],
   "source": [
    "print(\n",
    "    np.sum(last_author_gender == \"male\")\n",
    "    + np.sum(last_author_gender == \"female\")\n",
    "    + np.sum(last_author_gender == \"None\")\n",
    ")"
   ]
  },
  {
   "cell_type": "markdown",
   "id": "7b501afc-d9ed-48e5-933a-dd294154b8d1",
   "metadata": {},
   "source": [
    "# Save"
   ]
  },
  {
   "cell_type": "code",
   "execution_count": 33,
   "id": "7791ac9c-4045-4b6f-8ebd-1f763ca3b651",
   "metadata": {},
   "outputs": [
    {
     "data": {
      "text/html": [
       "<div>\n",
       "<style scoped>\n",
       "    .dataframe tbody tr th:only-of-type {\n",
       "        vertical-align: middle;\n",
       "    }\n",
       "\n",
       "    .dataframe tbody tr th {\n",
       "        vertical-align: top;\n",
       "    }\n",
       "\n",
       "    .dataframe thead th {\n",
       "        text-align: right;\n",
       "    }\n",
       "</style>\n",
       "<table border=\"1\" class=\"dataframe\">\n",
       "  <thead>\n",
       "    <tr style=\"text-align: right;\">\n",
       "      <th></th>\n",
       "      <th>first_author_name</th>\n",
       "      <th>first_author_gender</th>\n",
       "      <th>last_author_name</th>\n",
       "      <th>last_author_gender</th>\n",
       "    </tr>\n",
       "  </thead>\n",
       "  <tbody>\n",
       "    <tr>\n",
       "      <th>0</th>\n",
       "      <td>Jake</td>\n",
       "      <td>male</td>\n",
       "      <td>Richard</td>\n",
       "      <td>male</td>\n",
       "    </tr>\n",
       "    <tr>\n",
       "      <th>1</th>\n",
       "      <td>Shuohang</td>\n",
       "      <td>None</td>\n",
       "      <td>Jing</td>\n",
       "      <td>female</td>\n",
       "    </tr>\n",
       "    <tr>\n",
       "      <th>2</th>\n",
       "      <td>Shakir</td>\n",
       "      <td>male</td>\n",
       "      <td>Balaji</td>\n",
       "      <td>None</td>\n",
       "    </tr>\n",
       "    <tr>\n",
       "      <th>3</th>\n",
       "      <td>Bradly</td>\n",
       "      <td>male</td>\n",
       "      <td>Ilya</td>\n",
       "      <td>male</td>\n",
       "    </tr>\n",
       "    <tr>\n",
       "      <th>4</th>\n",
       "      <td>Edouard</td>\n",
       "      <td>male</td>\n",
       "      <td>Nicolas</td>\n",
       "      <td>male</td>\n",
       "    </tr>\n",
       "    <tr>\n",
       "      <th>...</th>\n",
       "      <td>...</td>\n",
       "      <td>...</td>\n",
       "      <td>...</td>\n",
       "      <td>...</td>\n",
       "    </tr>\n",
       "    <tr>\n",
       "      <th>24440</th>\n",
       "      <td>Mohammadreza</td>\n",
       "      <td>None</td>\n",
       "      <td>Sachin</td>\n",
       "      <td>male</td>\n",
       "    </tr>\n",
       "    <tr>\n",
       "      <th>24441</th>\n",
       "      <td>Takuya</td>\n",
       "      <td>None</td>\n",
       "      <td>Murray</td>\n",
       "      <td>male</td>\n",
       "    </tr>\n",
       "    <tr>\n",
       "      <th>24442</th>\n",
       "      <td>Xu</td>\n",
       "      <td>None</td>\n",
       "      <td>Yuan</td>\n",
       "      <td>female</td>\n",
       "    </tr>\n",
       "    <tr>\n",
       "      <th>24443</th>\n",
       "      <td>Wanru</td>\n",
       "      <td>None</td>\n",
       "      <td>Nicholas</td>\n",
       "      <td>male</td>\n",
       "    </tr>\n",
       "    <tr>\n",
       "      <th>24444</th>\n",
       "      <td>Chunghyun</td>\n",
       "      <td>None</td>\n",
       "      <td>Minsu</td>\n",
       "      <td>None</td>\n",
       "    </tr>\n",
       "  </tbody>\n",
       "</table>\n",
       "<p>24445 rows × 4 columns</p>\n",
       "</div>"
      ],
      "text/plain": [
       "      first_author_name first_author_gender last_author_name  \\\n",
       "0                  Jake                male          Richard   \n",
       "1              Shuohang                None             Jing   \n",
       "2                Shakir                male           Balaji   \n",
       "3                Bradly                male             Ilya   \n",
       "4               Edouard                male          Nicolas   \n",
       "...                 ...                 ...              ...   \n",
       "24440      Mohammadreza                None           Sachin   \n",
       "24441            Takuya                None           Murray   \n",
       "24442                Xu                None             Yuan   \n",
       "24443             Wanru                None         Nicholas   \n",
       "24444         Chunghyun                None            Minsu   \n",
       "\n",
       "      last_author_gender  \n",
       "0                   male  \n",
       "1                 female  \n",
       "2                   None  \n",
       "3                   male  \n",
       "4                   male  \n",
       "...                  ...  \n",
       "24440               male  \n",
       "24441               male  \n",
       "24442             female  \n",
       "24443               male  \n",
       "24444               None  \n",
       "\n",
       "[24445 rows x 4 columns]"
      ]
     },
     "execution_count": 33,
     "metadata": {},
     "output_type": "execute_result"
    }
   ],
   "source": [
    "dict_names = {\n",
    "    \"first_author_name\": first_author_first_name,\n",
    "    \"first_author_gender\": first_author_gender,\n",
    "    \"last_author_name\": last_author_first_name,\n",
    "    \"last_author_gender\": last_author_gender,\n",
    "}\n",
    "df = pd.DataFrame(dict_names)\n",
    "df"
   ]
  },
  {
   "cell_type": "code",
   "execution_count": 34,
   "id": "4aca9ce0-8517-4bf8-93c7-79c39e56e9f5",
   "metadata": {},
   "outputs": [],
   "source": [
    "# save\n",
    "df.to_parquet(\n",
    "    variables_path / \"names_and_genders.parquet\",\n",
    "    index=False,\n",
    "    engine=\"pyarrow\",\n",
    ")"
   ]
  },
  {
   "cell_type": "code",
   "execution_count": null,
   "id": "97fad69b-d79a-45cb-aefc-e3ce962dc301",
   "metadata": {},
   "outputs": [],
   "source": []
  }
 ],
 "metadata": {
  "kernelspec": {
   "display_name": "Python 3 (ipykernel)",
   "language": "python",
   "name": "python3"
  },
  "language_info": {
   "codemirror_mode": {
    "name": "ipython",
    "version": 3
   },
   "file_extension": ".py",
   "mimetype": "text/x-python",
   "name": "python",
   "nbconvert_exporter": "python",
   "pygments_lexer": "ipython3",
   "version": "3.8.10"
  }
 },
 "nbformat": 4,
 "nbformat_minor": 5
}
