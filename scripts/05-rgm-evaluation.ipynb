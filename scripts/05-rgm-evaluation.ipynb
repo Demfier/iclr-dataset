{
 "cells": [
  {
   "cell_type": "code",
   "execution_count": 1,
   "id": "a4170199-7901-42dd-b434-270b268fc8ee",
   "metadata": {},
   "outputs": [],
   "source": [
    "import pandas as pd\n",
    "import random\n",
    "import numpy as np\n",
    "from random import randint\n",
    "\n",
    "import scipy as sp\n",
    "from scipy import sparse\n",
    "\n",
    "import time\n",
    "import pickle\n",
    "import memory_profiler\n",
    "\n",
    "%load_ext memory_profiler\n",
    "\n",
    "from pathlib import Path\n",
    "import distro\n",
    "\n",
    "%load_ext watermark"
   ]
  },
  {
   "cell_type": "code",
   "execution_count": 2,
   "id": "97c6055f-ab84-46c1-84f1-97fce3f41f03",
   "metadata": {},
   "outputs": [],
   "source": [
    "%load_ext autoreload\n",
    "%autoreload 2\n",
    "\n",
    "from metrics import knn_accuracy_cv"
   ]
  },
  {
   "cell_type": "code",
   "execution_count": 3,
   "id": "8eb75c4d-f7cc-4e24-a9cc-d847c74babba",
   "metadata": {},
   "outputs": [
    {
     "data": {
      "text/html": [
       "\n",
       "                <script type=\"application/javascript\" id=\"jupyter_black\">\n",
       "                (function() {\n",
       "                    if (window.IPython === undefined) {\n",
       "                        return\n",
       "                    }\n",
       "                    var msg = \"WARNING: it looks like you might have loaded \" +\n",
       "                        \"jupyter_black in a non-lab notebook with \" +\n",
       "                        \"`is_lab=True`. Please double check, and if \" +\n",
       "                        \"loading with `%load_ext` please review the README!\"\n",
       "                    console.log(msg)\n",
       "                    alert(msg)\n",
       "                })()\n",
       "                </script>\n",
       "                "
      ],
      "text/plain": [
       "<IPython.core.display.HTML object>"
      ]
     },
     "metadata": {},
     "output_type": "display_data"
    }
   ],
   "source": [
    "import black\n",
    "import jupyter_black\n",
    "\n",
    "jupyter_black.load(line_length=79)"
   ]
  },
  {
   "cell_type": "code",
   "execution_count": 4,
   "id": "82cdefbf-dbd6-4c62-886f-bc0b0e06388e",
   "metadata": {},
   "outputs": [],
   "source": [
    "variables_path = Path(\"../results/variables/iclr24v2\")\n",
    "figures_path = Path(\"../results/figures\")\n",
    "data_path = Path(\"../data\")"
   ]
  },
  {
   "cell_type": "code",
   "execution_count": 5,
   "id": "f33c65e9",
   "metadata": {},
   "outputs": [],
   "source": [
    "plt.style.use(\"matplotlib_style.txt\")"
   ]
  },
  {
   "cell_type": "code",
   "execution_count": 6,
   "id": "0c95a532",
   "metadata": {},
   "outputs": [
    {
     "name": "stdout",
     "output_type": "stream",
     "text": [
      "Author: Rita González-Márquez\n",
      "\n",
      "Last updated: 2024-04-02 04:14:32CEST\n",
      "\n",
      "Python implementation: CPython\n",
      "Python version       : 3.11.5\n",
      "IPython version      : 8.18.1\n",
      "\n",
      "transformers: 4.35.2\n",
      "openTSNE    : 1.0.0\n",
      "\n",
      "Compiler    : GCC 11.2.0\n",
      "OS          : Linux\n",
      "Release     : 3.10.0-1160.el7.x86_64\n",
      "Machine     : x86_64\n",
      "Processor   : x86_64\n",
      "CPU cores   : 64\n",
      "Architecture: 64bit\n",
      "\n",
      "Hostname: rgonzalesmarquez_GPU0-llm_gber7\n",
      "\n",
      "scipy          : 1.11.4\n",
      "numpy          : 1.26.2\n",
      "jupyter_black  : 0.3.4\n",
      "tiktoken       : 0.6.0\n",
      "sklearn        : 1.3.2\n",
      "distro         : 1.8.0\n",
      "black          : 23.11.0\n",
      "torch          : 2.1.1\n",
      "memory_profiler: 0.61.0\n",
      "pandas         : 2.1.3\n",
      "cohere         : 5.1.1\n",
      "adapters       : 0.1.0\n",
      "openTSNE       : 1.0.0\n",
      "matplotlib     : 3.8.2\n",
      "\n",
      "Watermark: 2.4.3\n",
      "\n",
      "Ubuntu 22.04.3 LTS\n"
     ]
    }
   ],
   "source": [
    "%watermark -a 'Rita González-Márquez' -t -d -tz -u -v -iv -w -m -h -p \n",
    "print(distro.name(pretty=True))"
   ]
  },
  {
   "cell_type": "markdown",
   "id": "32e365bc-8d5f-4bfc-beff-fa71ae05bb91",
   "metadata": {},
   "source": [
    "# Import"
   ]
  },
  {
   "cell_type": "code",
   "execution_count": 7,
   "id": "a9af5b15",
   "metadata": {},
   "outputs": [
    {
     "name": "stdout",
     "output_type": "stream",
     "text": [
      "CPU times: user 185 ms, sys: 80.3 ms, total: 265 ms\n",
      "Wall time: 206 ms\n"
     ]
    }
   ],
   "source": [
    "%%time\n",
    "iclr2024 = pd.read_parquet(\n",
    "    data_path / \"iclr24v2.parquet\",\n",
    "    engine=\"pyarrow\",\n",
    ")"
   ]
  },
  {
   "cell_type": "code",
   "execution_count": 8,
   "id": "450820d1",
   "metadata": {},
   "outputs": [],
   "source": [
    "iclr2024.keywords = iclr2024.keywords.transform(lambda x: list(x))\n",
    "iclr2024.scores = iclr2024.scores.transform(lambda x: list(x))"
   ]
  },
  {
   "cell_type": "code",
   "execution_count": 9,
   "id": "37cd0c0a",
   "metadata": {
    "scrolled": true
   },
   "outputs": [
    {
     "data": {
      "text/html": [
       "<div>\n",
       "<style scoped>\n",
       "    .dataframe tbody tr th:only-of-type {\n",
       "        vertical-align: middle;\n",
       "    }\n",
       "\n",
       "    .dataframe tbody tr th {\n",
       "        vertical-align: top;\n",
       "    }\n",
       "\n",
       "    .dataframe thead th {\n",
       "        text-align: right;\n",
       "    }\n",
       "</style>\n",
       "<table border=\"1\" class=\"dataframe\">\n",
       "  <thead>\n",
       "    <tr style=\"text-align: right;\">\n",
       "      <th></th>\n",
       "      <th>year</th>\n",
       "      <th>id</th>\n",
       "      <th>title</th>\n",
       "      <th>abstract</th>\n",
       "      <th>authors</th>\n",
       "      <th>decision</th>\n",
       "      <th>scores</th>\n",
       "      <th>keywords</th>\n",
       "      <th>labels</th>\n",
       "    </tr>\n",
       "  </thead>\n",
       "  <tbody>\n",
       "    <tr>\n",
       "      <th>0</th>\n",
       "      <td>2017</td>\n",
       "      <td>B1-Hhnslg</td>\n",
       "      <td>Prototypical Networks for Few-shot Learning</td>\n",
       "      <td>A recent approach to few-shot classification c...</td>\n",
       "      <td>Jake Snell, Kevin Swersky, Richard Zemel</td>\n",
       "      <td>Reject</td>\n",
       "      <td>[6, 4, 5]</td>\n",
       "      <td>[deep learning, transfer learning]</td>\n",
       "      <td>transfer learning</td>\n",
       "    </tr>\n",
       "    <tr>\n",
       "      <th>1</th>\n",
       "      <td>2017</td>\n",
       "      <td>B1-q5Pqxl</td>\n",
       "      <td>Machine Comprehension Using Match-LSTM and Ans...</td>\n",
       "      <td>Machine comprehension of text is an important ...</td>\n",
       "      <td>Shuohang Wang, Jing Jiang</td>\n",
       "      <td>Accept (Poster)</td>\n",
       "      <td>[6, 6, 7]</td>\n",
       "      <td>[natural language processing, deep learning]</td>\n",
       "      <td>language models</td>\n",
       "    </tr>\n",
       "    <tr>\n",
       "      <th>2</th>\n",
       "      <td>2017</td>\n",
       "      <td>B16Jem9xe</td>\n",
       "      <td>Learning in Implicit Generative Models</td>\n",
       "      <td>Generative adversarial networks (GANs) provide...</td>\n",
       "      <td>Shakir Mohamed, Balaji Lakshminarayanan</td>\n",
       "      <td>Invite to Workshop Track</td>\n",
       "      <td>[8, 7, 6]</td>\n",
       "      <td>[unsupervised learning]</td>\n",
       "      <td>unlabeled</td>\n",
       "    </tr>\n",
       "    <tr>\n",
       "      <th>3</th>\n",
       "      <td>2017</td>\n",
       "      <td>B16dGcqlx</td>\n",
       "      <td>Third Person Imitation Learning</td>\n",
       "      <td>Reinforcement learning (RL) makes it possible ...</td>\n",
       "      <td>Bradly C Stadie, Pieter Abbeel, Ilya Sutskever</td>\n",
       "      <td>Accept (Poster)</td>\n",
       "      <td>[6, 5, 6]</td>\n",
       "      <td>[]</td>\n",
       "      <td>unlabeled</td>\n",
       "    </tr>\n",
       "    <tr>\n",
       "      <th>4</th>\n",
       "      <td>2017</td>\n",
       "      <td>B184E5qee</td>\n",
       "      <td>Improving Neural Language Models with a Contin...</td>\n",
       "      <td>We propose an extension to neural network lang...</td>\n",
       "      <td>Edouard Grave, Armand Joulin, Nicolas Usunier</td>\n",
       "      <td>Accept (Poster)</td>\n",
       "      <td>[7, 9, 5]</td>\n",
       "      <td>[natural language processing]</td>\n",
       "      <td>language models</td>\n",
       "    </tr>\n",
       "    <tr>\n",
       "      <th>...</th>\n",
       "      <td>...</td>\n",
       "      <td>...</td>\n",
       "      <td>...</td>\n",
       "      <td>...</td>\n",
       "      <td>...</td>\n",
       "      <td>...</td>\n",
       "      <td>...</td>\n",
       "      <td>...</td>\n",
       "      <td>...</td>\n",
       "    </tr>\n",
       "    <tr>\n",
       "      <th>24440</th>\n",
       "      <td>2024</td>\n",
       "      <td>zxPDdw8koz</td>\n",
       "      <td>CLIP meets Model Zoo Experts: Pseudo-Supervisi...</td>\n",
       "      <td>Contrastive language image pretraining (CLIP) ...</td>\n",
       "      <td>Mohammadreza Salehi, Mehrdad Farajtabar, Maxwe...</td>\n",
       "      <td>Withdrawn</td>\n",
       "      <td>[8, 3, 3, 3]</td>\n",
       "      <td>[contrastive learning, clip, distillation, den...</td>\n",
       "      <td>vision-language models</td>\n",
       "    </tr>\n",
       "    <tr>\n",
       "      <th>24441</th>\n",
       "      <td>2024</td>\n",
       "      <td>zyBJodMrn5</td>\n",
       "      <td>On the generalization capacity of neural netwo...</td>\n",
       "      <td>The advent of the Transformer has led to the d...</td>\n",
       "      <td>Takuya Ito, Soham Dan, Mattia Rigotti, James K...</td>\n",
       "      <td>Accept (poster)</td>\n",
       "      <td>[8, 3, 6]</td>\n",
       "      <td>[compositional generalization, compositionalit...</td>\n",
       "      <td>out-of-distribution</td>\n",
       "    </tr>\n",
       "    <tr>\n",
       "      <th>24442</th>\n",
       "      <td>2024</td>\n",
       "      <td>zz61V8bIab</td>\n",
       "      <td>Stochastic Adversarial Networks for Multi-Doma...</td>\n",
       "      <td>Adversarial training has played a pivotal role...</td>\n",
       "      <td>Xu Wang, Yuan Wu</td>\n",
       "      <td>Withdrawn</td>\n",
       "      <td>[5, 1, 5]</td>\n",
       "      <td>[multi-domain text classification, adversarial...</td>\n",
       "      <td>adversarial</td>\n",
       "    </tr>\n",
       "    <tr>\n",
       "      <th>24443</th>\n",
       "      <td>2024</td>\n",
       "      <td>zzqn5G9fjn</td>\n",
       "      <td>Breaking Physical and Linguistic Borders: Mult...</td>\n",
       "      <td>Pretrained large language models (LLMs) have e...</td>\n",
       "      <td>Wanru Zhao, Royson Lee, Yihong Chen, Xinchi Qi...</td>\n",
       "      <td>Accept (poster)</td>\n",
       "      <td>[5, 3, 1, 8]</td>\n",
       "      <td>[multilingual federated learning, natural lang...</td>\n",
       "      <td>language models</td>\n",
       "    </tr>\n",
       "    <tr>\n",
       "      <th>24444</th>\n",
       "      <td>2024</td>\n",
       "      <td>zzv4Bf50RW</td>\n",
       "      <td>Learning SO(3)-Invariant Correspondence via Po...</td>\n",
       "      <td>Establishing accurate dense 3D correspondences...</td>\n",
       "      <td>Chunghyun Park, Seungwook Kim, Jaesik Park, Mi...</td>\n",
       "      <td>Withdrawn</td>\n",
       "      <td>[5, 5, 3, 5, 6]</td>\n",
       "      <td>[point cloud understanding, 3d dense correspon...</td>\n",
       "      <td>unlabeled</td>\n",
       "    </tr>\n",
       "  </tbody>\n",
       "</table>\n",
       "<p>24445 rows × 9 columns</p>\n",
       "</div>"
      ],
      "text/plain": [
       "       year          id                                              title  \\\n",
       "0      2017   B1-Hhnslg        Prototypical Networks for Few-shot Learning   \n",
       "1      2017   B1-q5Pqxl  Machine Comprehension Using Match-LSTM and Ans...   \n",
       "2      2017   B16Jem9xe             Learning in Implicit Generative Models   \n",
       "3      2017   B16dGcqlx                    Third Person Imitation Learning   \n",
       "4      2017   B184E5qee  Improving Neural Language Models with a Contin...   \n",
       "...     ...         ...                                                ...   \n",
       "24440  2024  zxPDdw8koz  CLIP meets Model Zoo Experts: Pseudo-Supervisi...   \n",
       "24441  2024  zyBJodMrn5  On the generalization capacity of neural netwo...   \n",
       "24442  2024  zz61V8bIab  Stochastic Adversarial Networks for Multi-Doma...   \n",
       "24443  2024  zzqn5G9fjn  Breaking Physical and Linguistic Borders: Mult...   \n",
       "24444  2024  zzv4Bf50RW  Learning SO(3)-Invariant Correspondence via Po...   \n",
       "\n",
       "                                                abstract  \\\n",
       "0      A recent approach to few-shot classification c...   \n",
       "1      Machine comprehension of text is an important ...   \n",
       "2      Generative adversarial networks (GANs) provide...   \n",
       "3      Reinforcement learning (RL) makes it possible ...   \n",
       "4      We propose an extension to neural network lang...   \n",
       "...                                                  ...   \n",
       "24440  Contrastive language image pretraining (CLIP) ...   \n",
       "24441  The advent of the Transformer has led to the d...   \n",
       "24442  Adversarial training has played a pivotal role...   \n",
       "24443  Pretrained large language models (LLMs) have e...   \n",
       "24444  Establishing accurate dense 3D correspondences...   \n",
       "\n",
       "                                                 authors  \\\n",
       "0               Jake Snell, Kevin Swersky, Richard Zemel   \n",
       "1                              Shuohang Wang, Jing Jiang   \n",
       "2                Shakir Mohamed, Balaji Lakshminarayanan   \n",
       "3         Bradly C Stadie, Pieter Abbeel, Ilya Sutskever   \n",
       "4          Edouard Grave, Armand Joulin, Nicolas Usunier   \n",
       "...                                                  ...   \n",
       "24440  Mohammadreza Salehi, Mehrdad Farajtabar, Maxwe...   \n",
       "24441  Takuya Ito, Soham Dan, Mattia Rigotti, James K...   \n",
       "24442                                   Xu Wang, Yuan Wu   \n",
       "24443  Wanru Zhao, Royson Lee, Yihong Chen, Xinchi Qi...   \n",
       "24444  Chunghyun Park, Seungwook Kim, Jaesik Park, Mi...   \n",
       "\n",
       "                       decision           scores  \\\n",
       "0                        Reject        [6, 4, 5]   \n",
       "1               Accept (Poster)        [6, 6, 7]   \n",
       "2      Invite to Workshop Track        [8, 7, 6]   \n",
       "3               Accept (Poster)        [6, 5, 6]   \n",
       "4               Accept (Poster)        [7, 9, 5]   \n",
       "...                         ...              ...   \n",
       "24440                 Withdrawn     [8, 3, 3, 3]   \n",
       "24441           Accept (poster)        [8, 3, 6]   \n",
       "24442                 Withdrawn        [5, 1, 5]   \n",
       "24443           Accept (poster)     [5, 3, 1, 8]   \n",
       "24444                 Withdrawn  [5, 5, 3, 5, 6]   \n",
       "\n",
       "                                                keywords  \\\n",
       "0                     [deep learning, transfer learning]   \n",
       "1           [natural language processing, deep learning]   \n",
       "2                                [unsupervised learning]   \n",
       "3                                                     []   \n",
       "4                          [natural language processing]   \n",
       "...                                                  ...   \n",
       "24440  [contrastive learning, clip, distillation, den...   \n",
       "24441  [compositional generalization, compositionalit...   \n",
       "24442  [multi-domain text classification, adversarial...   \n",
       "24443  [multilingual federated learning, natural lang...   \n",
       "24444  [point cloud understanding, 3d dense correspon...   \n",
       "\n",
       "                       labels  \n",
       "0           transfer learning  \n",
       "1             language models  \n",
       "2                   unlabeled  \n",
       "3                   unlabeled  \n",
       "4             language models  \n",
       "...                       ...  \n",
       "24440  vision-language models  \n",
       "24441     out-of-distribution  \n",
       "24442             adversarial  \n",
       "24443         language models  \n",
       "24444               unlabeled  \n",
       "\n",
       "[24445 rows x 9 columns]"
      ]
     },
     "execution_count": 9,
     "metadata": {},
     "output_type": "execute_result"
    }
   ],
   "source": [
    "iclr2024"
   ]
  },
  {
   "cell_type": "code",
   "execution_count": 10,
   "id": "b00bb7b5-0672-41b5-8957-9357c42c1594",
   "metadata": {},
   "outputs": [],
   "source": [
    "labels_iclr = iclr2024.labels.to_numpy()"
   ]
  },
  {
   "cell_type": "code",
   "execution_count": 11,
   "id": "2e1f3a56",
   "metadata": {},
   "outputs": [],
   "source": [
    "colors_iclr = np.load(variables_path / \"colors_iclr.npy\")\n",
    "\n",
    "pickle_in = open(variables_path / \"dict_label_to_color.pkl\", \"rb\")\n",
    "dict_label_to_color = pickle.load(pickle_in)"
   ]
  },
  {
   "cell_type": "markdown",
   "id": "717c1d63",
   "metadata": {},
   "source": [
    "# kNN accuracy"
   ]
  },
  {
   "cell_type": "markdown",
   "id": "1989f94c",
   "metadata": {},
   "source": [
    "## BERT-based models"
   ]
  },
  {
   "cell_type": "code",
   "execution_count": 12,
   "id": "1d16b917-9b9c-426f-8983-860b271a6c25",
   "metadata": {},
   "outputs": [
    {
     "name": "stdout",
     "output_type": "stream",
     "text": [
      "['SimCSE', 'DeCLUTR-sci', 'SciNCL', 'SPECTER2', 'ST5', 'SBERT']\n"
     ]
    }
   ],
   "source": [
    "model_names = [\n",
    "    \"SimCSE\",\n",
    "    \"DeCLUTR-sci\",\n",
    "    \"SciNCL\",\n",
    "    \"SPECTER2\",\n",
    "    \"ST5\",\n",
    "    \"SBERT\",\n",
    "]\n",
    "\n",
    "\n",
    "model_paths = [\n",
    "    \"princeton-nlp/unsup-simcse-bert-base-uncased\",\n",
    "    \"johngiorgi/declutr-sci-base\",\n",
    "    \"malteos/scincl\",\n",
    "    \"allenai/specter2_base\",\n",
    "    \"sentence-transformers/sentence-t5-base\",\n",
    "    \"sentence-transformers/all-mpnet-base-v2\",\n",
    "]\n",
    "print(model_names)"
   ]
  },
  {
   "cell_type": "markdown",
   "id": "f82567d4-9223-4e82-af99-d2301ef07b7d",
   "metadata": {},
   "source": [
    "### Euclidean"
   ]
  },
  {
   "cell_type": "code",
   "execution_count": 13,
   "id": "3bf180ac",
   "metadata": {
    "scrolled": true
   },
   "outputs": [
    {
     "name": "stdout",
     "output_type": "stream",
     "text": [
      "kNN accuracy     [AVG]    [CLS]   [SEP]\n",
      "SimCSE: [46.5 45.1 44.3]\n",
      "DeCLUTR-sci: [52.7 40.  30.5]\n",
      "SciNCL: [56.3 58.8 58.9]\n",
      "SPECTER2: [57.1 58.8 59.2]\n",
      "ST5: 57.0\n",
      "SBERT: [61.6 59.9 60.2]\n",
      "peak memory: 1323.14 MiB, increment: 509.14 MiB\n",
      "CPU times: user 6min 48s, sys: 5.09 s, total: 6min 53s\n",
      "Wall time: 31.9 s\n"
     ]
    }
   ],
   "source": [
    "%%time\n",
    "%%memit\n",
    "print(\"kNN accuracy     [AVG]    [CLS]   [SEP]\")\n",
    "for i, model_name in enumerate(model_names):\n",
    "    # import\n",
    "    saving_path = Path(\"embeddings_\" + model_name.lower())\n",
    "\n",
    "    if model_name != \"ST5\":\n",
    "        embedding_cls = np.load(\n",
    "            variables_path / saving_path / \"embedding_abstracts_only_cls.npy\"\n",
    "        )\n",
    "        embedding_sep = np.load(\n",
    "            variables_path / saving_path / \"embedding_abstracts_only_sep.npy\"\n",
    "        )\n",
    "\n",
    "    embedding_av = np.load(\n",
    "        variables_path / saving_path / \"embedding_abstracts_only_av.npy\"\n",
    "    )\n",
    "\n",
    "    # knn acc\n",
    "    if model_name == \"ST5\":\n",
    "        knn_acc = knn_accuracy_cv(\n",
    "            embedding_av[labels_iclr != \"unlabeled\"],\n",
    "            labels_iclr[labels_iclr != \"unlabeled\"],\n",
    "            metric=\"euclidean\",\n",
    "        )\n",
    "    else:\n",
    "        knn_acc = knn_accuracy_cv(\n",
    "            [\n",
    "                embedding_av[labels_iclr != \"unlabeled\"],\n",
    "                embedding_cls[labels_iclr != \"unlabeled\"],\n",
    "                embedding_sep[labels_iclr != \"unlabeled\"],\n",
    "            ],\n",
    "            labels_iclr[labels_iclr != \"unlabeled\"],\n",
    "            metric=\"euclidean\",\n",
    "        )\n",
    "\n",
    "    print(f\"{model_name}: {np.round(np.array(knn_acc)*100,1)}\")\n",
    "\n",
    "    # save embeddings\n",
    "    saving_name = Path(\"knn_accuracy_cv_\" + model_name.lower())\n",
    "    np.save(variables_path / saving_name, knn_acc)\n",
    "\n",
    "    # print(\"----------------------------\")"
   ]
  },
  {
   "cell_type": "code",
   "execution_count": 58,
   "id": "d59c49e7-4f34-4646-b82b-d3902bfa98a3",
   "metadata": {},
   "outputs": [
    {
     "name": "stdout",
     "output_type": "stream",
     "text": [
      "['SimCSE', 'DeCLUTR-sci', 'SciNCL', 'SPECTER2', 'ST5', 'SBERT', 'Cohere', 'OpenAI']\n"
     ]
    }
   ],
   "source": [
    "model_names = [\n",
    "    \"SimCSE\",\n",
    "    \"DeCLUTR-sci\",\n",
    "    \"SciNCL\",\n",
    "    \"SPECTER2\",\n",
    "    \"ST5\",\n",
    "    \"SBERT\",\n",
    "    \"Cohere\",\n",
    "    \"OpenAI\",\n",
    "]\n",
    "\n",
    "print(model_names)"
   ]
  },
  {
   "cell_type": "code",
   "execution_count": 59,
   "id": "fa22933e",
   "metadata": {},
   "outputs": [
    {
     "name": "stdout",
     "output_type": "stream",
     "text": [
      "kNN accuracy     [AVG]    [CLS]   [SEP]\n",
      "SimCSE: [46.5 45.1 44.3]\n",
      "DeCLUTR-sci: [52.7 40.  30.5]\n",
      "SciNCL: [56.3 58.8 58.9]\n",
      "SPECTER2: [57.1 58.8 59.2]\n",
      "ST5: 57.0\n",
      "SBERT: [61.6 59.9 60.2]\n",
      "Cohere: 61.1\n",
      "OpenAI: 62.3\n",
      "peak memory: 4582.23 MiB, increment: 0.00 MiB\n",
      "CPU times: user 157 ms, sys: 47.7 ms, total: 205 ms\n",
      "Wall time: 330 ms\n"
     ]
    }
   ],
   "source": [
    "%%time\n",
    "%%memit\n",
    "print(\"kNN accuracy     [AVG]    [CLS]   [SEP]\")\n",
    "for i, model_name in enumerate(model_names):\n",
    "    # print(\"Model: \", model_name)\n",
    "\n",
    "    # save embeddings\n",
    "    saving_name = Path(\"knn_accuracy_cv_\" + model_name.lower() + \".npy\")\n",
    "    knn_acc = np.load(variables_path / saving_name)\n",
    "    print(f\"{model_name}: {np.round(np.array(knn_acc)*100,1)}\")\n",
    "\n",
    "    # print(\"----------------------------\")"
   ]
  },
  {
   "cell_type": "markdown",
   "id": "2fee04fc-7b12-4d05-ab3e-ea425ff0f9b6",
   "metadata": {},
   "source": [
    "### Cosine"
   ]
  },
  {
   "cell_type": "code",
   "execution_count": 15,
   "id": "1774dd37-1216-4331-8395-c1161e16d3af",
   "metadata": {},
   "outputs": [
    {
     "name": "stdout",
     "output_type": "stream",
     "text": [
      "['SimCSE', 'DeCLUTR-sci', 'SciNCL', 'SPECTER2', 'ST5', 'SBERT']\n"
     ]
    }
   ],
   "source": [
    "model_names = [\n",
    "    \"SimCSE\",\n",
    "    \"DeCLUTR-sci\",\n",
    "    \"SciNCL\",\n",
    "    \"SPECTER2\",\n",
    "    \"ST5\",\n",
    "    \"SBERT\",\n",
    "]\n",
    "\n",
    "\n",
    "model_paths = [\n",
    "    \"princeton-nlp/unsup-simcse-bert-base-uncased\",\n",
    "    \"johngiorgi/declutr-sci-base\",\n",
    "    \"malteos/scincl\",\n",
    "    \"allenai/specter2_base\",\n",
    "    \"sentence-transformers/sentence-t5-base\",\n",
    "    \"sentence-transformers/all-mpnet-base-v2\",\n",
    "]\n",
    "print(model_names)"
   ]
  },
  {
   "cell_type": "code",
   "execution_count": 16,
   "id": "b90b4a98-df4a-452b-9221-a9a7d0aaf79a",
   "metadata": {},
   "outputs": [
    {
     "name": "stdout",
     "output_type": "stream",
     "text": [
      "kNN accuracy     [AVG]    [CLS]   [SEP]\n",
      "SimCSE: [46.2 44.6 44.5]\n",
      "DeCLUTR-sci: [52.7 40.  30.7]\n",
      "SciNCL: [56.6 58.9 58.9]\n",
      "SPECTER2: [56.8 58.8 59. ]\n",
      "ST5: 57.0\n",
      "SBERT: [61.6 60.  60.3]\n",
      "peak memory: 1890.86 MiB, increment: 568.18 MiB\n",
      "CPU times: user 29min 40s, sys: 1h 2min 44s, total: 1h 32min 25s\n",
      "Wall time: 2min 12s\n"
     ]
    }
   ],
   "source": [
    "%%time\n",
    "%%memit\n",
    "print(\"kNN accuracy     [AVG]    [CLS]   [SEP]\")\n",
    "for i, model_name in enumerate(model_names):\n",
    "    # import\n",
    "    saving_path = Path(\"embeddings_\" + model_name.lower())\n",
    "\n",
    "    if model_name != \"ST5\":\n",
    "        embedding_cls = np.load(\n",
    "            variables_path / saving_path / \"embedding_abstracts_only_cls.npy\"\n",
    "        )\n",
    "        embedding_sep = np.load(\n",
    "            variables_path / saving_path / \"embedding_abstracts_only_sep.npy\"\n",
    "        )\n",
    "\n",
    "    embedding_av = np.load(\n",
    "        variables_path / saving_path / \"embedding_abstracts_only_av.npy\"\n",
    "    )\n",
    "\n",
    "    # knn acc\n",
    "    if model_name == \"ST5\":\n",
    "        knn_acc = knn_accuracy_cv(\n",
    "            embedding_av[labels_iclr != \"unlabeled\"],\n",
    "            labels_iclr[labels_iclr != \"unlabeled\"],\n",
    "            metric=\"cosine\",\n",
    "        )\n",
    "    else:\n",
    "        knn_acc = knn_accuracy_cv(\n",
    "            [\n",
    "                embedding_av[labels_iclr != \"unlabeled\"],\n",
    "                embedding_cls[labels_iclr != \"unlabeled\"],\n",
    "                embedding_sep[labels_iclr != \"unlabeled\"],\n",
    "            ],\n",
    "            labels_iclr[labels_iclr != \"unlabeled\"],\n",
    "            metric=\"cosine\",\n",
    "        )\n",
    "\n",
    "    print(f\"{model_name}: {np.round(np.array(knn_acc)*100,1)}\")\n",
    "\n",
    "    # save embeddings\n",
    "    saving_name = Path(\"knn_accuracy_cv_cosine_\" + model_name.lower())\n",
    "    np.save(variables_path / saving_name, knn_acc)\n",
    "\n",
    "    # print(\"----------------------------\")"
   ]
  },
  {
   "cell_type": "code",
   "execution_count": 56,
   "id": "902b4f51-9968-486d-9e0f-9d889043dcf8",
   "metadata": {},
   "outputs": [
    {
     "name": "stdout",
     "output_type": "stream",
     "text": [
      "['SimCSE', 'DeCLUTR-sci', 'SciNCL', 'SPECTER2', 'ST5', 'SBERT', 'Cohere', 'OpenAI']\n"
     ]
    }
   ],
   "source": [
    "model_names = [\n",
    "    \"SimCSE\",\n",
    "    \"DeCLUTR-sci\",\n",
    "    \"SciNCL\",\n",
    "    \"SPECTER2\",\n",
    "    \"ST5\",\n",
    "    \"SBERT\",\n",
    "    \"Cohere\",\n",
    "    \"OpenAI\",\n",
    "]\n",
    "\n",
    "print(model_names)"
   ]
  },
  {
   "cell_type": "code",
   "execution_count": 57,
   "id": "ec220dfd-69bd-43f0-a893-f0368c78deef",
   "metadata": {},
   "outputs": [
    {
     "name": "stdout",
     "output_type": "stream",
     "text": [
      "kNN accuracy     [AVG]    [CLS]   [SEP]\n",
      "SimCSE: [46.2 44.6 44.5]\n",
      "DeCLUTR-sci: [52.7 40.  30.7]\n",
      "SciNCL: [56.6 58.9 58.9]\n",
      "SPECTER2: [56.8 58.8 59. ]\n",
      "ST5: 57.0\n",
      "SBERT: [61.6 60.  60.3]\n",
      "Cohere: 61.1\n",
      "OpenAI: 62.3\n",
      "peak memory: 4583.19 MiB, increment: 0.00 MiB\n",
      "CPU times: user 159 ms, sys: 64.4 ms, total: 224 ms\n",
      "Wall time: 343 ms\n"
     ]
    }
   ],
   "source": [
    "%%time\n",
    "%%memit\n",
    "print(\"kNN accuracy     [AVG]    [CLS]   [SEP]\")\n",
    "for i, model_name in enumerate(model_names):\n",
    "    # print(\"Model: \", model_name)\n",
    "\n",
    "    # save embeddings\n",
    "    saving_name = Path(\"knn_accuracy_cv_cosine_\" + model_name.lower() + \".npy\")\n",
    "    knn_acc = np.load(variables_path / saving_name)\n",
    "    print(f\"{model_name}: {np.round(np.array(knn_acc)*100,1)}\")\n",
    "\n",
    "    # print(\"----------------------------\")"
   ]
  },
  {
   "cell_type": "markdown",
   "id": "0d200461-dbc4-41a2-9db0-3705d0be18fa",
   "metadata": {},
   "source": [
    "### Cohere"
   ]
  },
  {
   "cell_type": "code",
   "execution_count": 18,
   "id": "71c08f5a-cb0e-41a9-a6dd-f4d444d5da0d",
   "metadata": {},
   "outputs": [],
   "source": [
    "saving_path = Path(\"embeddings_cohere\")\n",
    "embedding_av = np.load(\n",
    "    variables_path / saving_path / \"embedding_abstracts_only_av.npy\"\n",
    ")"
   ]
  },
  {
   "cell_type": "markdown",
   "id": "084078d4-ea61-48ff-9190-ab7302dd4915",
   "metadata": {},
   "source": [
    "#### Euclidean"
   ]
  },
  {
   "cell_type": "code",
   "execution_count": 19,
   "id": "c984ca90-ecb7-43ca-ac51-844a30ebaa98",
   "metadata": {},
   "outputs": [
    {
     "name": "stdout",
     "output_type": "stream",
     "text": [
      "Cohere: 61.1\n",
      "peak memory: 1888.59 MiB, increment: 1.03 MiB\n",
      "CPU times: user 26.7 s, sys: 3.42 s, total: 30.1 s\n",
      "Wall time: 2.31 s\n"
     ]
    }
   ],
   "source": [
    "%%time\n",
    "%%memit\n",
    "model_name = \"Cohere\"\n",
    "\n",
    "knn_acc = knn_accuracy_cv(\n",
    "    embedding_av[labels_iclr != \"unlabeled\"],\n",
    "    labels_iclr[labels_iclr != \"unlabeled\"],\n",
    "    metric=\"euclidean\",\n",
    ")\n",
    "\n",
    "print(f\"{model_name}: {np.round(np.array(knn_acc)*100,1)}\")\n",
    "\n",
    "# save embeddings\n",
    "saving_name = Path(\"knn_accuracy_cv_\" + model_name.lower())\n",
    "np.save(variables_path / saving_name, knn_acc)"
   ]
  },
  {
   "cell_type": "markdown",
   "id": "7f8d3797-8f3f-42f1-85bd-6664dd8c4513",
   "metadata": {},
   "source": [
    "#### Cosine"
   ]
  },
  {
   "cell_type": "code",
   "execution_count": 20,
   "id": "beee2b03-08b8-4913-a127-c882817b7711",
   "metadata": {},
   "outputs": [
    {
     "name": "stdout",
     "output_type": "stream",
     "text": [
      "Cohere: 61.1\n",
      "peak memory: 2436.50 MiB, increment: 547.92 MiB\n",
      "CPU times: user 2min 15s, sys: 4min 25s, total: 6min 41s\n",
      "Wall time: 9.98 s\n"
     ]
    }
   ],
   "source": [
    "%%time\n",
    "%%memit\n",
    "model_name = \"Cohere\"\n",
    "\n",
    "knn_acc = knn_accuracy_cv(\n",
    "    embedding_av[labels_iclr != \"unlabeled\"],\n",
    "    labels_iclr[labels_iclr != \"unlabeled\"],\n",
    "    metric=\"cosine\",\n",
    ")\n",
    "\n",
    "print(f\"{model_name}: {np.round(np.array(knn_acc)*100,1)}\")\n",
    "\n",
    "# save embeddings\n",
    "saving_name = Path(\"knn_accuracy_cv_cosine_\" + model_name.lower())\n",
    "np.save(variables_path / saving_name, knn_acc)"
   ]
  },
  {
   "cell_type": "markdown",
   "id": "399889fa-e814-411c-bf9b-05a1efe59645",
   "metadata": {},
   "source": [
    "### OpenAI"
   ]
  },
  {
   "cell_type": "code",
   "execution_count": 21,
   "id": "672c9f36-5d54-435d-8de6-f0937d687909",
   "metadata": {},
   "outputs": [],
   "source": [
    "saving_path = Path(\"embeddings_openai\")\n",
    "embedding_av = np.load(\n",
    "    variables_path / saving_path / \"embedding_abstracts_only_av.npy\"\n",
    ")"
   ]
  },
  {
   "cell_type": "markdown",
   "id": "762a47cf-a5d9-441c-ab3f-e8d4e35373b6",
   "metadata": {},
   "source": [
    "#### Euclidean"
   ]
  },
  {
   "cell_type": "code",
   "execution_count": 22,
   "id": "7426f704-4a54-43d8-9596-5ebcf334b9b0",
   "metadata": {},
   "outputs": [
    {
     "name": "stdout",
     "output_type": "stream",
     "text": [
      "OpenAI: 62.3\n",
      "peak memory: 2491.11 MiB, increment: 56.08 MiB\n",
      "CPU times: user 47.5 s, sys: 4.49 s, total: 51.9 s\n",
      "Wall time: 3.99 s\n"
     ]
    }
   ],
   "source": [
    "%%time\n",
    "%%memit\n",
    "model_name = \"OpenAI\"\n",
    "\n",
    "knn_acc = knn_accuracy_cv(\n",
    "    embedding_av[labels_iclr != \"unlabeled\"],\n",
    "    labels_iclr[labels_iclr != \"unlabeled\"],\n",
    "    metric=\"euclidean\",\n",
    ")\n",
    "\n",
    "print(f\"{model_name}: {np.round(np.array(knn_acc)*100,1)}\")\n",
    "\n",
    "# save embeddings\n",
    "saving_name = Path(\"knn_accuracy_cv_\" + model_name.lower())\n",
    "np.save(variables_path / saving_name, knn_acc)"
   ]
  },
  {
   "cell_type": "markdown",
   "id": "4d500e47-fb45-4c30-8399-e600d23fa3ad",
   "metadata": {},
   "source": [
    "#### Cosine"
   ]
  },
  {
   "cell_type": "code",
   "execution_count": 23,
   "id": "72d78282-3edf-497b-9ea0-8de978c16c9b",
   "metadata": {},
   "outputs": [
    {
     "name": "stdout",
     "output_type": "stream",
     "text": [
      "OpenAI: 62.3\n",
      "peak memory: 4584.72 MiB, increment: 2093.61 MiB\n",
      "CPU times: user 3min 51s, sys: 5min 31s, total: 9min 23s\n",
      "Wall time: 14 s\n"
     ]
    }
   ],
   "source": [
    "%%time\n",
    "%%memit\n",
    "model_name = \"OpenAI\"\n",
    "\n",
    "knn_acc = knn_accuracy_cv(\n",
    "    embedding_av[labels_iclr != \"unlabeled\"],\n",
    "    labels_iclr[labels_iclr != \"unlabeled\"],\n",
    "    metric=\"cosine\",\n",
    ")\n",
    "\n",
    "print(f\"{model_name}: {np.round(np.array(knn_acc)*100,1)}\")\n",
    "\n",
    "# save embeddings\n",
    "saving_name = Path(\"knn_accuracy_cv_cosine_\" + model_name.lower())\n",
    "np.save(variables_path / saving_name, knn_acc)"
   ]
  },
  {
   "cell_type": "markdown",
   "id": "3b5425d1",
   "metadata": {},
   "source": [
    "## TF-IDF"
   ]
  },
  {
   "cell_type": "code",
   "execution_count": 24,
   "id": "9333f4de-023e-4583-97cd-0b1e1d5d0da0",
   "metadata": {},
   "outputs": [],
   "source": [
    "# save results\n",
    "tfidf_features = sp.sparse.load_npz(variables_path / \"tfidf_features.npz\")"
   ]
  },
  {
   "cell_type": "markdown",
   "id": "c6d4815d-3c12-4eed-92a6-de8292151a10",
   "metadata": {},
   "source": [
    "### Euclidean"
   ]
  },
  {
   "cell_type": "code",
   "execution_count": 25,
   "id": "2af48caa",
   "metadata": {},
   "outputs": [
    {
     "name": "stdout",
     "output_type": "stream",
     "text": [
      "peak memory: 4585.21 MiB, increment: 0.58 MiB\n",
      "CPU times: user 32min 15s, sys: 3.46 s, total: 32min 19s\n",
      "Wall time: 1min 26s\n"
     ]
    }
   ],
   "source": [
    "%%time\n",
    "%%memit\n",
    "\n",
    "knn_accuracy_tfidf = knn_accuracy_cv(\n",
    "    tfidf_features[labels_iclr != \"unlabeled\"],\n",
    "    labels_iclr[labels_iclr != \"unlabeled\"],\n",
    ")\n",
    "\n",
    "np.save(\n",
    "    variables_path / \"knn_accuracy_cv_tfidf\",\n",
    "    knn_accuracy_tfidf,\n",
    ")"
   ]
  },
  {
   "cell_type": "code",
   "execution_count": 26,
   "id": "192af5a1",
   "metadata": {},
   "outputs": [
    {
     "name": "stdout",
     "output_type": "stream",
     "text": [
      "59.181660828595405\n"
     ]
    }
   ],
   "source": [
    "print(knn_accuracy_tfidf * 100)"
   ]
  },
  {
   "cell_type": "markdown",
   "id": "844d7a84-2bf1-4840-a82f-dea93ed2ff2b",
   "metadata": {},
   "source": [
    "### Cosine"
   ]
  },
  {
   "cell_type": "code",
   "execution_count": 27,
   "id": "b75309ef-6c95-4052-bc16-5d3c4672e1d6",
   "metadata": {},
   "outputs": [
    {
     "name": "stdout",
     "output_type": "stream",
     "text": [
      "peak memory: 4585.15 MiB, increment: 0.20 MiB\n",
      "CPU times: user 26.7 s, sys: 1.58 s, total: 28.3 s\n",
      "Wall time: 5.77 s\n"
     ]
    }
   ],
   "source": [
    "%%time\n",
    "%%memit\n",
    "\n",
    "knn_accuracy_tfidf = knn_accuracy_cv(\n",
    "    tfidf_features[labels_iclr != \"unlabeled\"],\n",
    "    labels_iclr[labels_iclr != \"unlabeled\"],\n",
    "    metric=\"cosine\",\n",
    ")\n",
    "np.save(\n",
    "    variables_path / \"knn_accuracy_cv_cosine_tfidf\",\n",
    "    knn_accuracy_tfidf,\n",
    ")"
   ]
  },
  {
   "cell_type": "code",
   "execution_count": 28,
   "id": "774e7ddd-9728-4be3-a9b5-42c987726734",
   "metadata": {},
   "outputs": [
    {
     "name": "stdout",
     "output_type": "stream",
     "text": [
      "59.181660828595405\n"
     ]
    }
   ],
   "source": [
    "print(knn_accuracy_tfidf * 100)"
   ]
  },
  {
   "cell_type": "markdown",
   "id": "577e6ff9",
   "metadata": {},
   "source": [
    "## SVD"
   ]
  },
  {
   "cell_type": "code",
   "execution_count": 29,
   "id": "9dd3420f-083b-44fb-99a6-89d84b89a82a",
   "metadata": {},
   "outputs": [],
   "source": [
    "svd_data = np.load(variables_path / \"svd_data.npy\")"
   ]
  },
  {
   "cell_type": "markdown",
   "id": "811fb5b1-1ade-490b-991d-2701fcfc35d8",
   "metadata": {},
   "source": [
    "### Euclidean"
   ]
  },
  {
   "cell_type": "code",
   "execution_count": 30,
   "id": "6f79232c",
   "metadata": {},
   "outputs": [
    {
     "name": "stdout",
     "output_type": "stream",
     "text": [
      "CPU times: user 11.1 s, sys: 3.65 s, total: 14.8 s\n",
      "Wall time: 902 ms\n"
     ]
    }
   ],
   "source": [
    "%%time\n",
    "knn_accuracy_svd = knn_accuracy_cv(\n",
    "    svd_data[:, :100][labels_iclr != \"unlabeled\"],\n",
    "    labels_iclr[labels_iclr != \"unlabeled\"],\n",
    ")\n",
    "\n",
    "np.save(variables_path / \"knn_accuracy_cv_svd\", knn_accuracy_svd)"
   ]
  },
  {
   "cell_type": "code",
   "execution_count": 31,
   "id": "d8676373",
   "metadata": {},
   "outputs": [
    {
     "name": "stdout",
     "output_type": "stream",
     "text": [
      "58.85986281999378\n"
     ]
    }
   ],
   "source": [
    "print(knn_accuracy_svd * 100)"
   ]
  },
  {
   "cell_type": "markdown",
   "id": "d1abc6a2-7837-4473-86cb-eec2b289ee7f",
   "metadata": {},
   "source": [
    "### Cosine"
   ]
  },
  {
   "cell_type": "code",
   "execution_count": 32,
   "id": "698009ec-09a4-46d3-97a7-f10020e72135",
   "metadata": {},
   "outputs": [
    {
     "name": "stdout",
     "output_type": "stream",
     "text": [
      "CPU times: user 1min 24s, sys: 3min 23s, total: 4min 48s\n",
      "Wall time: 7.27 s\n"
     ]
    }
   ],
   "source": [
    "%%time\n",
    "knn_accuracy_svd = knn_accuracy_cv(\n",
    "    svd_data[:, :100][labels_iclr != \"unlabeled\"],\n",
    "    labels_iclr[labels_iclr != \"unlabeled\"],\n",
    "    metric=\"cosine\",\n",
    ")\n",
    "\n",
    "np.save(\n",
    "    variables_path / \"knn_accuracy_cv_cosine_svd\",\n",
    "    knn_accuracy_svd,\n",
    ")"
   ]
  },
  {
   "cell_type": "code",
   "execution_count": 33,
   "id": "73d1c684-e2c3-4cf3-b0fb-9a8240491a02",
   "metadata": {},
   "outputs": [
    {
     "name": "stdout",
     "output_type": "stream",
     "text": [
      "60.72144479062154\n"
     ]
    }
   ],
   "source": [
    "print(knn_accuracy_svd * 100)"
   ]
  },
  {
   "cell_type": "markdown",
   "id": "98d5528a-cfaf-408b-8bef-b6992901704a",
   "metadata": {},
   "source": [
    "## L2(SVD)"
   ]
  },
  {
   "cell_type": "code",
   "execution_count": 34,
   "id": "0efa7dbb-81e8-4f2b-ac3d-cc164547b5dc",
   "metadata": {},
   "outputs": [],
   "source": [
    "# svd_data = np.load(variables_path / \"svd_data.npy\")"
   ]
  },
  {
   "cell_type": "code",
   "execution_count": 35,
   "id": "d31dce01-3402-4ea9-81b0-64242779bd2d",
   "metadata": {},
   "outputs": [
    {
     "name": "stdout",
     "output_type": "stream",
     "text": [
      "CPU times: user 9.88 s, sys: 138 ms, total: 10 s\n",
      "Wall time: 892 ms\n"
     ]
    }
   ],
   "source": [
    "%%time\n",
    "knn_accuracy_L2_svd = knn_accuracy_cv(\n",
    "    normalize(svd_data[labels_iclr != \"unlabeled\"][:, :100], axis=1),\n",
    "    labels_iclr[labels_iclr != \"unlabeled\"],\n",
    ")\n",
    "\n",
    "np.save(variables_path / \"knn_accuracy_cv_L2_svd\", knn_accuracy_L2_svd)"
   ]
  },
  {
   "cell_type": "code",
   "execution_count": 36,
   "id": "2a63d301-2ca5-413d-afd3-a5ffda8f213a",
   "metadata": {},
   "outputs": [
    {
     "name": "stdout",
     "output_type": "stream",
     "text": [
      "60.72144479062154\n"
     ]
    }
   ],
   "source": [
    "print(knn_accuracy_L2_svd * 100)"
   ]
  },
  {
   "cell_type": "markdown",
   "id": "e6b8b457",
   "metadata": {},
   "source": [
    "# t-SNE"
   ]
  },
  {
   "cell_type": "markdown",
   "id": "a59ab971",
   "metadata": {},
   "source": [
    "## BERT-based models"
   ]
  },
  {
   "cell_type": "code",
   "execution_count": 37,
   "id": "d049a206-297a-49d8-9c44-01ce125b3b09",
   "metadata": {},
   "outputs": [
    {
     "name": "stdout",
     "output_type": "stream",
     "text": [
      "['SimCSE', 'DeCLUTR-sci', 'SciNCL', 'SPECTER2', 'ST5', 'SBERT']\n"
     ]
    }
   ],
   "source": [
    "model_names = [\n",
    "    \"SimCSE\",\n",
    "    \"DeCLUTR-sci\",\n",
    "    \"SciNCL\",\n",
    "    \"SPECTER2\",\n",
    "    \"ST5\",\n",
    "    \"SBERT\",\n",
    "]\n",
    "\n",
    "\n",
    "model_paths = [\n",
    "    \"princeton-nlp/unsup-simcse-bert-base-uncased\",\n",
    "    \"johngiorgi/declutr-sci-base\",\n",
    "    \"malteos/scincl\",\n",
    "    \"allenai/specter2_base\",\n",
    "    \"sentence-transformers/sentence-t5-base\",\n",
    "    \"sentence-transformers/all-mpnet-base-v2\",\n",
    "]\n",
    "print(model_names)"
   ]
  },
  {
   "cell_type": "code",
   "execution_count": 38,
   "id": "c638fb62",
   "metadata": {},
   "outputs": [
    {
     "name": "stdout",
     "output_type": "stream",
     "text": [
      "kNN accuracy          [AVG]    [CLS]   [SEP]\n",
      "t-SNE SimCSE: [39.56905059 36.32078881 37.13289093]\n",
      "t-SNE DeCLUTR-sci: [47.09998064 32.74359426 22.23239631]\n",
      "t-SNE SciNCL: [52.11031314 54.85283366 54.62303075]\n",
      "t-SNE SPECTER2: [52.92240939 54.1176122  54.60031215]\n",
      "t-SNE ST5: [52.57760528]\n",
      "t-SNE SBERT: [56.84466623 55.65740203 55.97119689]\n",
      "peak memory: 4585.41 MiB, increment: 0.48 MiB\n",
      "CPU times: user 1min 57s, sys: 6.3 s, total: 2min 4s\n",
      "Wall time: 13.2 s\n"
     ]
    }
   ],
   "source": [
    "%%time\n",
    "%%memit\n",
    "print(\"kNN accuracy          [AVG]    [CLS]   [SEP]\")\n",
    "for i, model_name in enumerate(model_names):\n",
    "    # import\n",
    "    saving_path = Path(\"embeddings_\" + model_name.lower())\n",
    "\n",
    "    # load\n",
    "    if model_name != \"ST5\":\n",
    "        tsne_cls = np.load(variables_path / saving_path / \"tsne_cls.npy\")\n",
    "        tsne_sep = np.load(variables_path / saving_path / \"tsne_sep.npy\")\n",
    "    tsne_av = np.load(variables_path / saving_path / \"tsne_av.npy\")\n",
    "\n",
    "    # knn acc\n",
    "    if model_name == \"ST5\":\n",
    "        knn_acc = knn_accuracy_cv(\n",
    "            [\n",
    "                tsne_av[labels_iclr != \"unlabeled\"],\n",
    "            ],\n",
    "            labels_iclr[labels_iclr != \"unlabeled\"],\n",
    "        )\n",
    "    else:\n",
    "        knn_acc = knn_accuracy_cv(\n",
    "            [\n",
    "                tsne_av[labels_iclr != \"unlabeled\"],\n",
    "                tsne_cls[labels_iclr != \"unlabeled\"],\n",
    "                tsne_sep[labels_iclr != \"unlabeled\"],\n",
    "            ],\n",
    "            labels_iclr[labels_iclr != \"unlabeled\"],\n",
    "        )\n",
    "\n",
    "    print(f\"t-SNE {model_name}: {np.array(knn_acc)*100}\")\n",
    "\n",
    "    # save embeddings\n",
    "    saving_name = Path(\"knn_accuracy_cv_tsne_\" + model_name.lower())\n",
    "    np.save(variables_path / saving_name, knn_acc)"
   ]
  },
  {
   "cell_type": "code",
   "execution_count": 39,
   "id": "c9be6ae7",
   "metadata": {
    "scrolled": true
   },
   "outputs": [
    {
     "name": "stdout",
     "output_type": "stream",
     "text": [
      "kNN accuracy     [AVG] [CLS] [SEP]\n",
      "SimCSE:          [46.5 45.1 44.3]\n",
      "t-SNE SimCSE:    [39.6 36.3 37.1]\n",
      "----------------------------------\n",
      "DeCLUTR-sci:          [52.7 40.  30.5]\n",
      "t-SNE DeCLUTR-sci:    [47.1 32.7 22.2]\n",
      "----------------------------------\n",
      "SciNCL:          [56.3 58.8 58.9]\n",
      "t-SNE SciNCL:    [52.1 54.9 54.6]\n",
      "----------------------------------\n",
      "SPECTER2:          [57.1 58.8 59.2]\n",
      "t-SNE SPECTER2:    [52.9 54.1 54.6]\n",
      "----------------------------------\n",
      "ST5:          57.0\n",
      "t-SNE ST5:    [52.6]\n",
      "----------------------------------\n",
      "SBERT:          [61.6 59.9 60.2]\n",
      "t-SNE SBERT:    [56.8 55.7 56. ]\n",
      "----------------------------------\n",
      "peak memory: 4583.90 MiB, increment: 0.00 MiB\n",
      "CPU times: user 183 ms, sys: 72 ms, total: 255 ms\n",
      "Wall time: 360 ms\n"
     ]
    }
   ],
   "source": [
    "%%time\n",
    "%%memit\n",
    "print(\"kNN accuracy     [AVG] [CLS] [SEP]\")\n",
    "for i, model_name in enumerate(model_names):\n",
    "    # print(\"Model: \", model_name)\n",
    "\n",
    "    # save embeddings\n",
    "    saving_name = Path(\"knn_accuracy_cv_\" + model_name.lower() + \".npy\")\n",
    "    knn_acc = np.load(variables_path / saving_name)\n",
    "    print(f\"{model_name}:          {np.round(np.array(knn_acc)*100,1)}\")\n",
    "\n",
    "    saving_name = Path(\"knn_accuracy_cv_tsne_\" + model_name.lower() + \".npy\")\n",
    "    knn_acc = np.load(variables_path / saving_name)\n",
    "    print(f\"t-SNE {model_name}:    {np.round(np.array(knn_acc)*100,1)}\")\n",
    "\n",
    "    print(\"----------------------------------\")"
   ]
  },
  {
   "cell_type": "code",
   "execution_count": 60,
   "id": "19743fd5-168d-4479-9634-761b7a6ff491",
   "metadata": {},
   "outputs": [
    {
     "name": "stdout",
     "output_type": "stream",
     "text": [
      "['SimCSE', 'DeCLUTR-sci', 'SciNCL', 'SPECTER2', 'ST5', 'SBERT', 'Cohere', 'OpenAI']\n"
     ]
    }
   ],
   "source": [
    "model_names = [\n",
    "    \"SimCSE\",\n",
    "    \"DeCLUTR-sci\",\n",
    "    \"SciNCL\",\n",
    "    \"SPECTER2\",\n",
    "    \"ST5\",\n",
    "    \"SBERT\",\n",
    "    \"Cohere\",\n",
    "    \"OpenAI\",\n",
    "]\n",
    "\n",
    "print(model_names)"
   ]
  },
  {
   "cell_type": "code",
   "execution_count": 62,
   "id": "44b91f1f",
   "metadata": {
    "scrolled": true
   },
   "outputs": [
    {
     "name": "stdout",
     "output_type": "stream",
     "text": [
      "kNN accuracy          [AVG]    [CLS]   [SEP]\n",
      "t-SNE SimCSE: [39.6 36.3 37.1]\n",
      "t-SNE DeCLUTR-sci: [47.1 32.7 22.2]\n",
      "t-SNE SciNCL: [52.1 54.9 54.6]\n",
      "t-SNE SPECTER2: [52.9 54.1 54.6]\n",
      "t-SNE ST5: [52.6]\n",
      "t-SNE SBERT: [56.8 55.7 56. ]\n",
      "t-SNE Cohere: 56.4\n",
      "t-SNE OpenAI: 57.1\n"
     ]
    }
   ],
   "source": [
    "print(\"kNN accuracy          [AVG]    [CLS]   [SEP]\")\n",
    "for i, model_name in enumerate(model_names):\n",
    "    # save embeddings\n",
    "    saving_name = Path(\"knn_accuracy_cv_tsne_\" + model_name.lower() + \".npy\")\n",
    "    knn_acc = np.load(variables_path / saving_name)\n",
    "    print(f\"t-SNE {model_name}: {np.round(np.array(knn_acc)*100,1)}\")\n",
    "\n",
    "    # print(\"----------------------------\")"
   ]
  },
  {
   "cell_type": "markdown",
   "id": "227efa54-e06c-4d4c-8eb0-3768bfcffe83",
   "metadata": {},
   "source": [
    "### Cohere"
   ]
  },
  {
   "cell_type": "code",
   "execution_count": 41,
   "id": "4e3f0e07-bc40-46b6-accf-89b76188895b",
   "metadata": {},
   "outputs": [],
   "source": [
    "saving_path = Path(\"embeddings_cohere\")\n",
    "tsne_av = np.load(variables_path / saving_path / \"tsne_av.npy\")"
   ]
  },
  {
   "cell_type": "code",
   "execution_count": 42,
   "id": "3b52eefa-887d-4a61-89b4-92120673e21d",
   "metadata": {},
   "outputs": [
    {
     "name": "stdout",
     "output_type": "stream",
     "text": [
      "peak memory: 4584.21 MiB, increment: 1.25 MiB\n",
      "CPU times: user 8.72 s, sys: 4.16 s, total: 12.9 s\n",
      "Wall time: 1.16 s\n"
     ]
    }
   ],
   "source": [
    "%%time\n",
    "%%memit\n",
    "\n",
    "knn_accuracy_tsne_cohere = knn_accuracy_cv(\n",
    "    tsne_av[labels_iclr != \"unlabeled\"],\n",
    "    labels_iclr[labels_iclr != \"unlabeled\"],\n",
    ")\n",
    "np.save(\n",
    "    variables_path / \"knn_accuracy_cv_tsne_cohere\",\n",
    "    knn_accuracy_tsne_cohere,\n",
    ")"
   ]
  },
  {
   "cell_type": "code",
   "execution_count": 43,
   "id": "4f6651a1-754b-4055-9989-dd0c48100cf3",
   "metadata": {},
   "outputs": [
    {
     "name": "stdout",
     "output_type": "stream",
     "text": [
      "56.40061490439058\n"
     ]
    }
   ],
   "source": [
    "print(knn_accuracy_tsne_cohere * 100)"
   ]
  },
  {
   "cell_type": "markdown",
   "id": "193fdad6-7315-47ec-b0d0-90773e5ffbb0",
   "metadata": {},
   "source": [
    "### OpenAI"
   ]
  },
  {
   "cell_type": "code",
   "execution_count": 44,
   "id": "28a6570b-c264-4d2f-aa65-4847562a63a2",
   "metadata": {},
   "outputs": [],
   "source": [
    "saving_path = Path(\"embeddings_openai\")\n",
    "tsne_av = np.load(variables_path / saving_path / \"tsne_av.npy\")"
   ]
  },
  {
   "cell_type": "code",
   "execution_count": 45,
   "id": "c66fc029-81f9-4ed1-bd8b-763ee91c1203",
   "metadata": {},
   "outputs": [
    {
     "name": "stdout",
     "output_type": "stream",
     "text": [
      "peak memory: 4583.88 MiB, increment: 0.00 MiB\n",
      "CPU times: user 8.99 s, sys: 4.77 s, total: 13.8 s\n",
      "Wall time: 1.26 s\n"
     ]
    }
   ],
   "source": [
    "%%time\n",
    "%%memit\n",
    "\n",
    "knn_accuracy_tsne_openai = knn_accuracy_cv(\n",
    "    tsne_av[labels_iclr != \"unlabeled\"],\n",
    "    labels_iclr[labels_iclr != \"unlabeled\"],\n",
    ")\n",
    "np.save(\n",
    "    variables_path / \"knn_accuracy_cv_tsne_openai\",\n",
    "    knn_accuracy_tsne_openai,\n",
    ")"
   ]
  },
  {
   "cell_type": "code",
   "execution_count": 46,
   "id": "16245fb1-c236-4c77-a42d-e2b13f9f9ba0",
   "metadata": {},
   "outputs": [
    {
     "name": "stdout",
     "output_type": "stream",
     "text": [
      "57.1435989509074\n"
     ]
    }
   ],
   "source": [
    "print(knn_accuracy_tsne_openai * 100)"
   ]
  },
  {
   "cell_type": "markdown",
   "id": "05665605",
   "metadata": {},
   "source": [
    "## TF-IDF"
   ]
  },
  {
   "cell_type": "code",
   "execution_count": 47,
   "id": "7eb44509-f1b0-4574-ae41-5560de7309c6",
   "metadata": {},
   "outputs": [],
   "source": [
    "tsne_tfidf = np.load(variables_path / \"tsne_tfidf.npy\")"
   ]
  },
  {
   "cell_type": "code",
   "execution_count": 48,
   "id": "481afb43",
   "metadata": {},
   "outputs": [
    {
     "name": "stdout",
     "output_type": "stream",
     "text": [
      "CPU times: user 8.83 s, sys: 113 ms, total: 8.94 s\n",
      "Wall time: 799 ms\n"
     ]
    }
   ],
   "source": [
    "%%time\n",
    "\n",
    "knn_accuracy_tsne_tfidf = knn_accuracy_cv(\n",
    "    tsne_tfidf[labels_iclr != \"unlabeled\"],\n",
    "    labels_iclr[labels_iclr != \"unlabeled\"],\n",
    ")\n",
    "np.save(\n",
    "    variables_path / \"knn_accuracy_cv_tsne_tfidf\",\n",
    "    knn_accuracy_tsne_tfidf,\n",
    ")"
   ]
  },
  {
   "cell_type": "code",
   "execution_count": 49,
   "id": "d8751f4d",
   "metadata": {},
   "outputs": [
    {
     "name": "stdout",
     "output_type": "stream",
     "text": [
      "51.97980438060705\n"
     ]
    }
   ],
   "source": [
    "print(knn_accuracy_tsne_tfidf * 100)"
   ]
  },
  {
   "cell_type": "markdown",
   "id": "0e702f56",
   "metadata": {},
   "source": [
    "## SVD"
   ]
  },
  {
   "cell_type": "code",
   "execution_count": 50,
   "id": "12a254ba-1626-4724-9bdd-243a4e3988ad",
   "metadata": {},
   "outputs": [],
   "source": [
    "tsne_svd = np.load(variables_path / \"tsne_svd.npy\")"
   ]
  },
  {
   "cell_type": "code",
   "execution_count": 51,
   "id": "35353b6d",
   "metadata": {},
   "outputs": [
    {
     "name": "stdout",
     "output_type": "stream",
     "text": [
      "peak memory: 4583.54 MiB, increment: 0.00 MiB\n",
      "CPU times: user 9.95 s, sys: 3.98 s, total: 13.9 s\n",
      "Wall time: 1.28 s\n"
     ]
    }
   ],
   "source": [
    "%%time\n",
    "%%memit\n",
    "\n",
    "knn_accuracy_tsne_svd = knn_accuracy_cv(\n",
    "    tsne_svd[labels_iclr != \"unlabeled\"],\n",
    "    labels_iclr[labels_iclr != \"unlabeled\"],\n",
    ")\n",
    "np.save(\n",
    "    variables_path / \"knn_accuracy_cv_tsne_svd\",\n",
    "    knn_accuracy_tsne_svd,\n",
    ")"
   ]
  },
  {
   "cell_type": "code",
   "execution_count": 52,
   "id": "98219fd4",
   "metadata": {},
   "outputs": [
    {
     "name": "stdout",
     "output_type": "stream",
     "text": [
      "55.88755111979488\n"
     ]
    }
   ],
   "source": [
    "print(knn_accuracy_tsne_svd * 100)"
   ]
  },
  {
   "cell_type": "markdown",
   "id": "89c92e49-795c-48a6-83b9-5acb8a6928d8",
   "metadata": {},
   "source": [
    "## L2(SVD)"
   ]
  },
  {
   "cell_type": "code",
   "execution_count": 53,
   "id": "1e67ffd3-eac1-453d-a5d5-2511effebf53",
   "metadata": {},
   "outputs": [],
   "source": [
    "tsne_L2_svd = np.load(variables_path / \"tsne_L2_svd.npy\")"
   ]
  },
  {
   "cell_type": "code",
   "execution_count": 54,
   "id": "3c2fcb18-d47e-445f-9fba-2da306f3f7e6",
   "metadata": {},
   "outputs": [
    {
     "name": "stdout",
     "output_type": "stream",
     "text": [
      "peak memory: 4583.54 MiB, increment: 0.00 MiB\n",
      "CPU times: user 9.23 s, sys: 4.07 s, total: 13.3 s\n",
      "Wall time: 1.2 s\n"
     ]
    }
   ],
   "source": [
    "%%time\n",
    "%%memit\n",
    "\n",
    "knn_accuracy_tsne_L2_svd = knn_accuracy_cv(\n",
    "    tsne_L2_svd[labels_iclr != \"unlabeled\"],\n",
    "    labels_iclr[labels_iclr != \"unlabeled\"],\n",
    ")\n",
    "np.save(\n",
    "    variables_path / \"knn_accuracy_cv_tsne_L2_svd\",\n",
    "    knn_accuracy_tsne_L2_svd,\n",
    ")"
   ]
  },
  {
   "cell_type": "code",
   "execution_count": 55,
   "id": "56b48fbf-68ed-4b42-a31c-503ae297e93e",
   "metadata": {},
   "outputs": [
    {
     "name": "stdout",
     "output_type": "stream",
     "text": [
      "56.73785006424812\n"
     ]
    }
   ],
   "source": [
    "print(knn_accuracy_tsne_L2_svd * 100)"
   ]
  }
 ],
 "metadata": {
  "kernelspec": {
   "display_name": "Python 3 (ipykernel)",
   "language": "python",
   "name": "python3"
  },
  "language_info": {
   "codemirror_mode": {
    "name": "ipython",
    "version": 3
   },
   "file_extension": ".py",
   "mimetype": "text/x-python",
   "name": "python",
   "nbconvert_exporter": "python",
   "pygments_lexer": "ipython3",
   "version": "3.11.5"
  }
 },
 "nbformat": 4,
 "nbformat_minor": 5
}
